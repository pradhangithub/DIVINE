{
  "cells": [
    {
      "cell_type": "markdown",
      "metadata": {
        "id": "view-in-github",
        "colab_type": "text"
      },
      "source": [
        "<a href=\"https://colab.research.google.com/github/pradhangithub/DIVINE/blob/main/Variable_Assignment.ipynb\" target=\"_parent\"><img src=\"https://colab.research.google.com/assets/colab-badge.svg\" alt=\"Open In Colab\"/></a>"
      ]
    },
    {
      "cell_type": "markdown",
      "metadata": {
        "id": "YjYu7tEes_kN"
      },
      "source": [
        "## Dynamic Typing"
      ]
    },
    {
      "cell_type": "code",
      "execution_count": null,
      "metadata": {
        "collapsed": true,
        "id": "5DBRhgxQs_kP"
      },
      "outputs": [],
      "source": [
        "my_dogs = 2"
      ]
    },
    {
      "cell_type": "code",
      "execution_count": null,
      "metadata": {
        "id": "vJSmNGo9s_kR",
        "outputId": "da26c2d1-617d-4e38-fc98-3ff6447eace1"
      },
      "outputs": [
        {
          "data": {
            "text/plain": [
              "2"
            ]
          },
          "execution_count": 2,
          "metadata": {},
          "output_type": "execute_result"
        }
      ],
      "source": [
        "my_dogs"
      ]
    },
    {
      "cell_type": "code",
      "execution_count": null,
      "metadata": {
        "collapsed": true,
        "id": "16LCLwAPs_kT"
      },
      "outputs": [],
      "source": [
        "my_dogs = ['Sammy', 'Frankie']"
      ]
    },
    {
      "cell_type": "code",
      "execution_count": null,
      "metadata": {
        "id": "erpTjA-5s_kT",
        "outputId": "dc754a7a-1b4f-4011-ea04-95691a164f9f"
      },
      "outputs": [
        {
          "data": {
            "text/plain": [
              "['Sammy', 'Frankie']"
            ]
          },
          "execution_count": 4,
          "metadata": {},
          "output_type": "execute_result"
        }
      ],
      "source": [
        "my_dogs"
      ]
    },
    {
      "cell_type": "markdown",
      "metadata": {
        "id": "H5kXl6WHs_kU"
      },
      "source": [
        "## Assigning Variables\n",
        "Variable assignment follows `name = object`, where a single equals sign `=` is an *assignment operator*"
      ]
    },
    {
      "cell_type": "code",
      "execution_count": null,
      "metadata": {
        "collapsed": true,
        "id": "sdknsLSzs_kU"
      },
      "outputs": [],
      "source": [
        "a = 5"
      ]
    },
    {
      "cell_type": "code",
      "execution_count": null,
      "metadata": {
        "id": "gHFbIZtMs_kV",
        "outputId": "4f91282b-8c2f-4000-9a0c-2aede3b3dfee"
      },
      "outputs": [
        {
          "data": {
            "text/plain": [
              "5"
            ]
          },
          "execution_count": 6,
          "metadata": {},
          "output_type": "execute_result"
        }
      ],
      "source": [
        "a"
      ]
    },
    {
      "cell_type": "code",
      "execution_count": null,
      "metadata": {
        "collapsed": true,
        "id": "RpBy6RLls_kW"
      },
      "outputs": [],
      "source": [
        "a = 10"
      ]
    },
    {
      "cell_type": "code",
      "execution_count": null,
      "metadata": {
        "id": "sf7yfCQbs_kW",
        "outputId": "dc994d6b-7ad2-4307-8d5a-2b9b74483b08"
      },
      "outputs": [
        {
          "data": {
            "text/plain": [
              "10"
            ]
          },
          "execution_count": 8,
          "metadata": {},
          "output_type": "execute_result"
        }
      ],
      "source": [
        "a"
      ]
    },
    {
      "cell_type": "code",
      "execution_count": null,
      "metadata": {
        "id": "wG6Kj4Nqs_kX",
        "outputId": "102a86c2-4fa1-498d-ba6e-9349bde7d71c"
      },
      "outputs": [
        {
          "data": {
            "text/plain": [
              "20"
            ]
          },
          "execution_count": 9,
          "metadata": {},
          "output_type": "execute_result"
        }
      ],
      "source": [
        "a + a"
      ]
    },
    {
      "cell_type": "markdown",
      "metadata": {
        "id": "HHojYt1Ls_kX"
      },
      "source": [
        "## Reassigning Variables\n",
        "Python lets you reassign variables with a reference to the same object."
      ]
    },
    {
      "cell_type": "code",
      "execution_count": null,
      "metadata": {
        "collapsed": true,
        "id": "LgTTkBSjs_kY"
      },
      "outputs": [],
      "source": [
        "a = a + 10"
      ]
    },
    {
      "cell_type": "code",
      "execution_count": null,
      "metadata": {
        "id": "_9Obh9-us_kY",
        "outputId": "cc6e2c95-68ef-47bc-8c4f-eb2fda19fc35"
      },
      "outputs": [
        {
          "data": {
            "text/plain": [
              "20"
            ]
          },
          "execution_count": 11,
          "metadata": {},
          "output_type": "execute_result"
        }
      ],
      "source": [
        "a"
      ]
    },
    {
      "cell_type": "code",
      "execution_count": null,
      "metadata": {
        "collapsed": true,
        "id": "KfE6Zpaxs_kZ"
      },
      "outputs": [],
      "source": [
        "a += 10"
      ]
    },
    {
      "cell_type": "code",
      "execution_count": null,
      "metadata": {
        "id": "vJKBpuUws_kZ",
        "outputId": "26c9b165-bab7-4ab4-9a6b-f04353e5f75d"
      },
      "outputs": [
        {
          "data": {
            "text/plain": [
              "30"
            ]
          },
          "execution_count": 13,
          "metadata": {},
          "output_type": "execute_result"
        }
      ],
      "source": [
        "a"
      ]
    },
    {
      "cell_type": "code",
      "execution_count": null,
      "metadata": {
        "collapsed": true,
        "id": "PfD81yvjs_ka"
      },
      "outputs": [],
      "source": [
        "a *= 2"
      ]
    },
    {
      "cell_type": "code",
      "execution_count": null,
      "metadata": {
        "id": "6Ls8isnOs_ka",
        "outputId": "257801d4-5551-459a-b3c5-e19c8bae6062"
      },
      "outputs": [
        {
          "data": {
            "text/plain": [
              "60"
            ]
          },
          "execution_count": 15,
          "metadata": {},
          "output_type": "execute_result"
        }
      ],
      "source": [
        "a"
      ]
    },
    {
      "cell_type": "code",
      "execution_count": null,
      "metadata": {
        "id": "BX-5GgQns_kb",
        "outputId": "e937663e-3f97-45f5-aab2-b9c85441fd31"
      },
      "outputs": [
        {
          "data": {
            "text/plain": [
              "int"
            ]
          },
          "execution_count": 16,
          "metadata": {},
          "output_type": "execute_result"
        }
      ],
      "source": [
        "type(a)"
      ]
    },
    {
      "cell_type": "code",
      "execution_count": null,
      "metadata": {
        "collapsed": true,
        "id": "Cbsup9eMs_kc"
      },
      "outputs": [],
      "source": [
        "a = (1,2)"
      ]
    },
    {
      "cell_type": "code",
      "execution_count": null,
      "metadata": {
        "id": "SD5u0Z_Ws_kc",
        "outputId": "2504ae72-7369-460d-c222-e26071d1e6fa"
      },
      "outputs": [
        {
          "data": {
            "text/plain": [
              "tuple"
            ]
          },
          "execution_count": 18,
          "metadata": {},
          "output_type": "execute_result"
        }
      ],
      "source": [
        "type(a)"
      ]
    },
    {
      "cell_type": "code",
      "execution_count": null,
      "metadata": {
        "collapsed": true,
        "id": "VNgAgPGas_kd"
      },
      "outputs": [],
      "source": [
        "my_income = 100\n",
        "tax_rate = 0.1\n",
        "my_taxes = my_income * tax_rate"
      ]
    },
    {
      "cell_type": "code",
      "execution_count": null,
      "metadata": {
        "id": "Wl3WpZU2s_kd",
        "outputId": "396e0e73-a2db-4b0a-8967-de4729412d09"
      },
      "outputs": [
        {
          "data": {
            "text/plain": [
              "10.0"
            ]
          },
          "execution_count": 20,
          "metadata": {},
          "output_type": "execute_result"
        }
      ],
      "source": [
        "my_taxes"
      ]
    }
  ],
  "metadata": {
    "kernelspec": {
      "display_name": "Python 3",
      "language": "python",
      "name": "python3"
    },
    "language_info": {
      "codemirror_mode": {
        "name": "ipython",
        "version": 3
      },
      "file_extension": ".py",
      "mimetype": "text/x-python",
      "name": "python",
      "nbconvert_exporter": "python",
      "pygments_lexer": "ipython3",
      "version": "3.7.10"
    },
    "colab": {
      "name": "Variable Assignment.ipynb",
      "provenance": [],
      "include_colab_link": true
    }
  },
  "nbformat": 4,
  "nbformat_minor": 0
}
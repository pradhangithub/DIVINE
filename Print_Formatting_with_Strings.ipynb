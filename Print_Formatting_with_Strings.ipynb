{
  "cells": [
    {
      "cell_type": "markdown",
      "metadata": {
        "id": "view-in-github",
        "colab_type": "text"
      },
      "source": [
        "<a href=\"https://colab.research.google.com/github/pradhangithub/DIVINE/blob/main/Print_Formatting_with_Strings.ipynb\" target=\"_parent\"><img src=\"https://colab.research.google.com/assets/colab-badge.svg\" alt=\"Open In Colab\"/></a>"
      ]
    },
    {
      "cell_type": "markdown",
      "metadata": {
        "id": "fJprsjtmsqtQ"
      },
      "source": [
        "## Formatting with placeholders\n",
        "You can use <code>%s</code> to inject strings into your print statements. The modulo `%` is referred to as a \"string formatting operator\"."
      ]
    },
    {
      "cell_type": "code",
      "execution_count": null,
      "metadata": {
        "id": "zNRLAJD8sqtS",
        "outputId": "8bb4d919-6f82-4930-82e3-027a02de2321"
      },
      "outputs": [
        {
          "name": "stdout",
          "output_type": "stream",
          "text": [
            "I'm going to inject something here.\n"
          ]
        }
      ],
      "source": [
        "print(\"I'm going to inject %s here.\" %'something')"
      ]
    },
    {
      "cell_type": "markdown",
      "metadata": {
        "id": "zhs0upEQsqtV"
      },
      "source": [
        "You can pass multiple items by placing them inside a tuple after the `%` operator."
      ]
    },
    {
      "cell_type": "code",
      "execution_count": null,
      "metadata": {
        "id": "tXVqu0d2sqtW",
        "outputId": "6cfd424d-6f01-4944-b96d-4938210b9e1c"
      },
      "outputs": [
        {
          "name": "stdout",
          "output_type": "stream",
          "text": [
            "I'm going to inject some text here, and more text here.\n"
          ]
        }
      ],
      "source": [
        "print(\"I'm going to inject %s text here, and %s text here.\" %('some','more'))"
      ]
    },
    {
      "cell_type": "markdown",
      "metadata": {
        "id": "2dqPRuI8sqtX"
      },
      "source": [
        "You can also pass variable names:"
      ]
    },
    {
      "cell_type": "code",
      "execution_count": null,
      "metadata": {
        "id": "H0_M28iMsqtX",
        "outputId": "b2dcb9da-4484-4997-a360-618fd1816c63"
      },
      "outputs": [
        {
          "name": "stdout",
          "output_type": "stream",
          "text": [
            "I'm going to inject some text here, and more text here.\n"
          ]
        }
      ],
      "source": [
        "x, y = 'some', 'more'\n",
        "print(\"I'm going to inject %s text here, and %s text here.\"%(x,y))"
      ]
    },
    {
      "cell_type": "markdown",
      "metadata": {
        "id": "OH_GNJhosqtY"
      },
      "source": [
        "### Format conversion methods.\n",
        "It should be noted that two methods <code>%s</code> and <code>%r</code> convert any python object to a string using two separate methods: `str()` and `repr()`. We will learn more about these functions later on in the course, but you should note that `%r` and `repr()` deliver the *string representation* of the object, including quotation marks and any escape characters."
      ]
    },
    {
      "cell_type": "code",
      "execution_count": null,
      "metadata": {
        "id": "puZS6uRHsqtZ",
        "outputId": "32ec768a-9116-45e9-8adc-22a2517c2170"
      },
      "outputs": [
        {
          "name": "stdout",
          "output_type": "stream",
          "text": [
            "He said his name was Fred.\n",
            "He said his name was 'Fred'.\n"
          ]
        }
      ],
      "source": [
        "print('He said his name was %s.' %'Fred')\n",
        "print('He said his name was %r.' %'Fred')"
      ]
    },
    {
      "cell_type": "markdown",
      "metadata": {
        "id": "j1v9x4dIsqtZ"
      },
      "source": [
        "As another example, `\\t` inserts a tab into a string."
      ]
    },
    {
      "cell_type": "code",
      "execution_count": null,
      "metadata": {
        "id": "_KJPoMScsqta",
        "outputId": "68a1fb9d-001e-4dc1-d699-b1e69adc1d1e"
      },
      "outputs": [
        {
          "name": "stdout",
          "output_type": "stream",
          "text": [
            "I once caught a fish this \tbig.\n",
            "I once caught a fish 'this \\tbig'.\n"
          ]
        }
      ],
      "source": [
        "print('I once caught a fish %s.' %'this \\tbig')\n",
        "print('I once caught a fish %r.' %'this \\tbig')"
      ]
    },
    {
      "cell_type": "markdown",
      "metadata": {
        "id": "UbPsbNmLsqtb"
      },
      "source": [
        "The `%s` operator converts whatever it sees into a string, including integers and floats. The `%d` operator converts numbers to integers first, without rounding. Note the difference below:"
      ]
    },
    {
      "cell_type": "code",
      "execution_count": null,
      "metadata": {
        "id": "AIsBIaYNsqtb",
        "outputId": "46caf05c-27a7-4a1b-e5a4-138a99a8d936"
      },
      "outputs": [
        {
          "name": "stdout",
          "output_type": "stream",
          "text": [
            "I wrote 3.75 programs today.\n",
            "I wrote 3 programs today.\n"
          ]
        }
      ],
      "source": [
        "print('I wrote %s programs today.' %3.75)\n",
        "print('I wrote %d programs today.' %3.75)   "
      ]
    },
    {
      "cell_type": "markdown",
      "metadata": {
        "id": "IZmNXESWsqtc"
      },
      "source": [
        "### Padding and Precision of Floating Point Numbers\n",
        "Floating point numbers use the format <code>%5.2f</code>. Here, <code>5</code> would be the minimum number of characters the string should contain; these may be padded with whitespace if the entire number does not have this many digits. Next to this, <code>.2f</code> stands for how many numbers to show past the decimal point. Let's see some examples:"
      ]
    },
    {
      "cell_type": "code",
      "execution_count": null,
      "metadata": {
        "id": "V-AK8CGZsqtc",
        "outputId": "3c66b588-51ea-43bd-91c5-c2bdfe7dfe98"
      },
      "outputs": [
        {
          "name": "stdout",
          "output_type": "stream",
          "text": [
            "Floating point numbers: 13.14\n"
          ]
        }
      ],
      "source": [
        "print('Floating point numbers: %5.2f' %(13.144))"
      ]
    },
    {
      "cell_type": "code",
      "execution_count": null,
      "metadata": {
        "id": "1ofj91H-sqtd",
        "outputId": "2657360f-f3cb-47e4-d81c-d810aa1ff1bb"
      },
      "outputs": [
        {
          "name": "stdout",
          "output_type": "stream",
          "text": [
            "Floating point numbers: 13\n"
          ]
        }
      ],
      "source": [
        "print('Floating point numbers: %1.0f' %(13.144))"
      ]
    },
    {
      "cell_type": "code",
      "execution_count": null,
      "metadata": {
        "id": "ShFmFxIlsqte",
        "outputId": "db6f5f81-0351-4bf2-ad08-684e787028fc"
      },
      "outputs": [
        {
          "name": "stdout",
          "output_type": "stream",
          "text": [
            "Floating point numbers: 13.14400\n"
          ]
        }
      ],
      "source": [
        "print('Floating point numbers: %1.5f' %(13.144))"
      ]
    },
    {
      "cell_type": "code",
      "execution_count": null,
      "metadata": {
        "id": "vTMPpCkysqtf",
        "outputId": "66913862-480a-4020-afd4-061d36076bdc"
      },
      "outputs": [
        {
          "name": "stdout",
          "output_type": "stream",
          "text": [
            "Floating point numbers:      13.14\n"
          ]
        }
      ],
      "source": [
        "print('Floating point numbers: %10.2f' %(13.144))"
      ]
    },
    {
      "cell_type": "code",
      "execution_count": null,
      "metadata": {
        "id": "87mQ21dBsqtf",
        "outputId": "17d0b12e-4160-4498-c999-a14020bcce80"
      },
      "outputs": [
        {
          "name": "stdout",
          "output_type": "stream",
          "text": [
            "Floating point numbers:                     13.14\n"
          ]
        }
      ],
      "source": [
        "print('Floating point numbers: %25.2f' %(13.144))"
      ]
    },
    {
      "cell_type": "markdown",
      "metadata": {
        "id": "72SQVjC-sqtg"
      },
      "source": [
        "### Multiple Formatting\n",
        "Nothing prohibits using more than one conversion tool in the same print statement:"
      ]
    },
    {
      "cell_type": "code",
      "execution_count": null,
      "metadata": {
        "id": "A30nGpmQsqtg",
        "outputId": "abbe28dc-401b-46c9-bed1-4d579b2c5624"
      },
      "outputs": [
        {
          "name": "stdout",
          "output_type": "stream",
          "text": [
            "First: hi!, Second:  3.14, Third: 'bye!'\n"
          ]
        }
      ],
      "source": [
        "print('First: %s, Second: %5.2f, Third: %r' %('hi!',3.1415,'bye!'))"
      ]
    },
    {
      "cell_type": "markdown",
      "metadata": {
        "id": "nXcuwXhysqth"
      },
      "source": [
        "## Formatting with the `.format()` method\n",
        "A better way to format objects into your strings for print statements is with the string `.format()` method. The syntax is:\n",
        "\n",
        "    'String here {} then also {}'.format('something1','something2')\n",
        "    \n",
        "For example:"
      ]
    },
    {
      "cell_type": "code",
      "execution_count": null,
      "metadata": {
        "id": "f6YxuTC7sqti",
        "outputId": "a8d7fde7-ed53-4b5e-c5c5-b50bc7e4a589"
      },
      "outputs": [
        {
          "name": "stdout",
          "output_type": "stream",
          "text": [
            "This is a string with an insert\n"
          ]
        }
      ],
      "source": [
        "print('This is a string with an {}'.format('insert'))"
      ]
    },
    {
      "cell_type": "markdown",
      "metadata": {
        "id": "Oy3RmnK8sqti"
      },
      "source": [
        "### The .format() method has several advantages over the %s placeholder method:"
      ]
    },
    {
      "cell_type": "markdown",
      "metadata": {
        "id": "V0ZqN4n_sqtj"
      },
      "source": [
        "#### 1. Inserted objects can be called by index position:"
      ]
    },
    {
      "cell_type": "code",
      "execution_count": null,
      "metadata": {
        "id": "aJL7OIgzsqtk",
        "outputId": "e4f56086-0809-4bac-e18d-969055678140"
      },
      "outputs": [
        {
          "name": "stdout",
          "output_type": "stream",
          "text": [
            "The quick brown fox\n"
          ]
        }
      ],
      "source": [
        "print('The {2} {1} {0}'.format('fox','brown','quick'))"
      ]
    },
    {
      "cell_type": "markdown",
      "metadata": {
        "id": "H9-XydrNsqtk"
      },
      "source": [
        "#### 2. Inserted objects can be assigned keywords:"
      ]
    },
    {
      "cell_type": "code",
      "execution_count": null,
      "metadata": {
        "id": "mrqAMXA0sqtk",
        "outputId": "a21417c6-4a17-462c-dd59-cc1dbdac6ab6"
      },
      "outputs": [
        {
          "name": "stdout",
          "output_type": "stream",
          "text": [
            "First Object: 1, Second Object: Two, Third Object: 12.3\n"
          ]
        }
      ],
      "source": [
        "print('First Object: {a}, Second Object: {b}, Third Object: {c}'.format(a=1,b='Two',c=12.3))"
      ]
    },
    {
      "cell_type": "markdown",
      "metadata": {
        "id": "xMUFRYYksqtl"
      },
      "source": [
        "#### 3. Inserted objects can be reused, avoiding duplication:"
      ]
    },
    {
      "cell_type": "code",
      "execution_count": null,
      "metadata": {
        "id": "JJ3yU8eusqtl",
        "outputId": "8e1323c5-2e0c-4597-ddf0-5d29de2202eb"
      },
      "outputs": [
        {
          "name": "stdout",
          "output_type": "stream",
          "text": [
            "A penny saved is a penny earned.\n",
            "A penny saved is a penny earned.\n"
          ]
        }
      ],
      "source": [
        "print('A %s saved is a %s earned.' %('penny','penny'))\n",
        "# vs.\n",
        "print('A {p} saved is a {p} earned.'.format(p='penny'))"
      ]
    },
    {
      "cell_type": "markdown",
      "metadata": {
        "id": "e_X5iPy_sqtm"
      },
      "source": [
        "### Alignment, padding and precision with `.format()`\n",
        "Within the curly braces you can assign field lengths, left/right alignments, rounding parameters and more"
      ]
    },
    {
      "cell_type": "code",
      "execution_count": null,
      "metadata": {
        "id": "8zYpDHZlsqtm",
        "outputId": "fa2f9d57-6e9f-4583-a429-45cc26380297"
      },
      "outputs": [
        {
          "name": "stdout",
          "output_type": "stream",
          "text": [
            "Fruit    | Quantity \n",
            "Apples   |       3.0\n",
            "Oranges  |        10\n"
          ]
        }
      ],
      "source": [
        "print('{0:8} | {1:9}'.format('Fruit', 'Quantity'))\n",
        "print('{0:8} | {1:9}'.format('Apples', 3.))\n",
        "print('{0:8} | {1:9}'.format('Oranges', 10))"
      ]
    },
    {
      "cell_type": "markdown",
      "metadata": {
        "id": "9zP87gTpsqtn"
      },
      "source": [
        "By default, `.format()` aligns text to the left, numbers to the right. You can pass an optional `<`,`^`, or `>` to set a left, center or right alignment:"
      ]
    },
    {
      "cell_type": "code",
      "execution_count": null,
      "metadata": {
        "id": "OtiwI-LJsqtn",
        "outputId": "59a3c865-7dc3-437d-c2e6-6143a01b8657"
      },
      "outputs": [
        {
          "name": "stdout",
          "output_type": "stream",
          "text": [
            "Left     |  Center  |    Right\n",
            "11       |    22    |       33\n"
          ]
        }
      ],
      "source": [
        "print('{0:<8} | {1:^8} | {2:>8}'.format('Left','Center','Right'))\n",
        "print('{0:<8} | {1:^8} | {2:>8}'.format(11,22,33))"
      ]
    },
    {
      "cell_type": "markdown",
      "metadata": {
        "id": "q03Le97osqtn"
      },
      "source": [
        "You can precede the aligment operator with a padding character"
      ]
    },
    {
      "cell_type": "code",
      "execution_count": null,
      "metadata": {
        "id": "RV1kEGlxsqto",
        "outputId": "c760a653-1c17-4cbb-fb2b-1ffa903c997b"
      },
      "outputs": [
        {
          "name": "stdout",
          "output_type": "stream",
          "text": [
            "Left==== | -Center- | ...Right\n",
            "11====== | ---22--- | ......33\n"
          ]
        }
      ],
      "source": [
        "print('{0:=<8} | {1:-^8} | {2:.>8}'.format('Left','Center','Right'))\n",
        "print('{0:=<8} | {1:-^8} | {2:.>8}'.format(11,22,33))"
      ]
    },
    {
      "cell_type": "markdown",
      "metadata": {
        "id": "8F7aFM3osqto"
      },
      "source": [
        "Field widths and float precision are handled in a way similar to placeholders. The following two print statements are equivalent:"
      ]
    },
    {
      "cell_type": "code",
      "execution_count": null,
      "metadata": {
        "id": "j3FtPODosqtp",
        "outputId": "b214826a-1fa2-4bac-cbb6-a7a34995b085"
      },
      "outputs": [
        {
          "name": "stdout",
          "output_type": "stream",
          "text": [
            "This is my ten-character, two-decimal number:     13.58\n",
            "This is my ten-character, two-decimal number:     13.58\n"
          ]
        }
      ],
      "source": [
        "print('This is my ten-character, two-decimal number:%10.2f' %13.579)\n",
        "print('This is my ten-character, two-decimal number:{0:10.2f}'.format(13.579))"
      ]
    },
    {
      "cell_type": "markdown",
      "metadata": {
        "id": "YzORhiTPsqtp"
      },
      "source": [
        "Note that there are 5 spaces following the colon, and 5 characters taken up by 13.58, for a total of ten characters."
      ]
    },
    {
      "cell_type": "markdown",
      "metadata": {
        "id": "N1POIfeEsqtp"
      },
      "source": [
        "## Formatted String Literals (f-strings)"
      ]
    },
    {
      "cell_type": "markdown",
      "metadata": {
        "id": "iskm2vujsqtq"
      },
      "source": [
        "Introduced in Python 3.6, f-strings offer several benefits over the older `.format()` string method described above. For one, you can bring outside variables immediately into to the string rather than pass them as arguments through `.format(var)`."
      ]
    },
    {
      "cell_type": "code",
      "execution_count": null,
      "metadata": {
        "id": "pz_8E8PDsqtq",
        "outputId": "9bafa9f9-c34e-4b91-bb4a-70b8e281f59a"
      },
      "outputs": [
        {
          "name": "stdout",
          "output_type": "stream",
          "text": [
            "He said his name is Fred.\n"
          ]
        }
      ],
      "source": [
        "name = 'Fred'\n",
        "\n",
        "print(f\"He said his name is {name}.\")"
      ]
    },
    {
      "cell_type": "markdown",
      "metadata": {
        "id": "HJavUNgusqtq"
      },
      "source": [
        "Pass `!r` to get the string representation:"
      ]
    },
    {
      "cell_type": "code",
      "execution_count": null,
      "metadata": {
        "id": "-8y7pZeCsqtq",
        "outputId": "40f1ebd7-83cc-4ed7-e903-59a8d24f38b8"
      },
      "outputs": [
        {
          "name": "stdout",
          "output_type": "stream",
          "text": [
            "He said his name is 'Fred'\n"
          ]
        }
      ],
      "source": [
        "print(f\"He said his name is {name!r}\")"
      ]
    },
    {
      "cell_type": "markdown",
      "metadata": {
        "id": "kLclsQCBsqtr"
      },
      "source": [
        "#### Float formatting follows `\"result: {value:{width}.{precision}}\"`"
      ]
    },
    {
      "cell_type": "markdown",
      "metadata": {
        "id": "2vFheIPmsqtr"
      },
      "source": [
        "Where with the `.format()` method you might see `{value:10.4f}`, with f-strings this can become `{value:{10}.{6}}`\n"
      ]
    },
    {
      "cell_type": "code",
      "execution_count": null,
      "metadata": {
        "id": "vZclfkymsqtr",
        "outputId": "8cd3989d-0824-4c6e-84ed-ebbde87f0e72"
      },
      "outputs": [
        {
          "name": "stdout",
          "output_type": "stream",
          "text": [
            "My 10 character, four decimal number is:   23.4568\n",
            "My 10 character, four decimal number is:   23.4568\n"
          ]
        }
      ],
      "source": [
        "num = 23.45678\n",
        "print(\"My 10 character, four decimal number is:{0:10.4f}\".format(num))\n",
        "print(f\"My 10 character, four decimal number is:{num:{10}.{6}}\")"
      ]
    },
    {
      "cell_type": "markdown",
      "metadata": {
        "id": "UwHZZzadsqtr"
      },
      "source": [
        "Note that with f-strings, *precision* refers to the total number of digits, not just those following the decimal. This fits more closely with scientific notation and statistical analysis. Unfortunately, f-strings do not pad to the right of the decimal, even if precision allows it:"
      ]
    },
    {
      "cell_type": "code",
      "execution_count": null,
      "metadata": {
        "id": "doUPkjJWsqts",
        "outputId": "35e393bd-5b68-4839-9486-a960c13f77a3"
      },
      "outputs": [
        {
          "name": "stdout",
          "output_type": "stream",
          "text": [
            "My 10 character, four decimal number is:   23.4500\n",
            "My 10 character, four decimal number is:     23.45\n"
          ]
        }
      ],
      "source": [
        "num = 23.45\n",
        "print(\"My 10 character, four decimal number is:{0:10.4f}\".format(num))\n",
        "print(f\"My 10 character, four decimal number is:{num:{10}.{6}}\")"
      ]
    },
    {
      "cell_type": "markdown",
      "metadata": {
        "id": "aV5hCJjssqts"
      },
      "source": [
        "If this becomes important, you can always use `.format()` method syntax inside an f-string:"
      ]
    },
    {
      "cell_type": "code",
      "execution_count": null,
      "metadata": {
        "id": "I9az7Bvysqts",
        "outputId": "66ceb096-8706-40b1-cfcf-5baea39e9e22"
      },
      "outputs": [
        {
          "name": "stdout",
          "output_type": "stream",
          "text": [
            "My 10 character, four decimal number is:   23.4500\n",
            "My 10 character, four decimal number is:   23.4500\n"
          ]
        }
      ],
      "source": [
        "num = 23.45\n",
        "print(\"My 10 character, four decimal number is:{0:10.4f}\".format(num))\n",
        "print(f\"My 10 character, four decimal number is:{num:10.4f}\")"
      ]
    }
  ],
  "metadata": {
    "kernelspec": {
      "display_name": "Python 3",
      "language": "python",
      "name": "python3"
    },
    "language_info": {
      "codemirror_mode": {
        "name": "ipython",
        "version": 3
      },
      "file_extension": ".py",
      "mimetype": "text/x-python",
      "name": "python",
      "nbconvert_exporter": "python",
      "pygments_lexer": "ipython3",
      "version": "3.7.10"
    },
    "colab": {
      "name": "Print Formatting with Strings.ipynb",
      "provenance": [],
      "include_colab_link": true
    }
  },
  "nbformat": 4,
  "nbformat_minor": 0
}
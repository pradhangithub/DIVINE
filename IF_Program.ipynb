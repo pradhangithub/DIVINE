{
  "cells": [
    {
      "cell_type": "markdown",
      "metadata": {
        "id": "view-in-github",
        "colab_type": "text"
      },
      "source": [
        "<a href=\"https://colab.research.google.com/github/pradhangithub/DIVINE/blob/main/IF_Program.ipynb\" target=\"_parent\"><img src=\"https://colab.research.google.com/assets/colab-badge.svg\" alt=\"Open In Colab\"/></a>"
      ]
    },
    {
      "cell_type": "code",
      "execution_count": null,
      "id": "disciplinary-beginning",
      "metadata": {
        "id": "disciplinary-beginning",
        "outputId": "30e0c030-7c27-47c8-ee10-f2a318644359"
      },
      "outputs": [
        {
          "name": "stdout",
          "output_type": "stream",
          "text": [
            "hello\n",
            "2610628401584\n"
          ]
        }
      ],
      "source": [
        "name='hel\"lo' \n",
        "print(name)\n",
        "print(id(name))"
      ]
    },
    {
      "cell_type": "code",
      "execution_count": null,
      "id": "sweet-sleeping",
      "metadata": {
        "id": "sweet-sleeping",
        "outputId": "442f69f6-9763-4a62-d7f8-07b705ebea1f"
      },
      "outputs": [
        {
          "name": "stdout",
          "output_type": "stream",
          "text": [
            "hel\"lo\n"
          ]
        }
      ],
      "source": [
        "name='hel\"lo' \n",
        "print(name)"
      ]
    },
    {
      "cell_type": "code",
      "execution_count": null,
      "id": "affected-relief",
      "metadata": {
        "id": "affected-relief",
        "outputId": "3eeafcc7-154b-48a7-c8b7-0020b9e89411"
      },
      "outputs": [
        {
          "name": "stdout",
          "output_type": "stream",
          "text": [
            "hel'lo\n"
          ]
        }
      ],
      "source": [
        "name=\"hel'lo\"\n",
        "print(name)"
      ]
    },
    {
      "cell_type": "code",
      "execution_count": null,
      "id": "rolled-atlas",
      "metadata": {
        "id": "rolled-atlas",
        "outputId": "8ed3b6f4-d2a6-415d-9a7d-dcad115d3c6a"
      },
      "outputs": [
        {
          "name": "stdout",
          "output_type": "stream",
          "text": [
            "9\n"
          ]
        }
      ],
      "source": [
        "print(6+3)"
      ]
    },
    {
      "cell_type": "code",
      "execution_count": null,
      "id": "primary-crest",
      "metadata": {
        "id": "primary-crest",
        "outputId": "56786c19-c9e9-4fd3-b3bb-3e7d8532d381"
      },
      "outputs": [
        {
          "name": "stdout",
          "output_type": "stream",
          "text": [
            "9' + * 'howru\n"
          ]
        }
      ],
      "source": [
        "print(\"9' + * 'howru\")"
      ]
    },
    {
      "cell_type": "code",
      "execution_count": null,
      "id": "interpreted-friendly",
      "metadata": {
        "id": "interpreted-friendly",
        "outputId": "9e9455da-759c-498a-9f30-603eb8305e10"
      },
      "outputs": [
        {
          "name": "stdout",
          "output_type": "stream",
          "text": [
            " +=howru +=howru +=howru +=howru +=howru +=howru +=howru +=howru +=howru\n"
          ]
        }
      ],
      "source": [
        "print(9 *  ' +=howru')"
      ]
    },
    {
      "cell_type": "code",
      "execution_count": null,
      "id": "early-consideration",
      "metadata": {
        "id": "early-consideration",
        "outputId": "a03eb53e-e949-4f27-d9f8-d35b298a2a38"
      },
      "outputs": [
        {
          "name": "stdout",
          "output_type": "stream",
          "text": [
            "--------------------------------------------------------------------------------\n"
          ]
        }
      ],
      "source": [
        "print('-' * 80)"
      ]
    },
    {
      "cell_type": "code",
      "execution_count": null,
      "id": "american-private",
      "metadata": {
        "id": "american-private",
        "outputId": "9172424e-83cd-4bf1-e765-c67442c6a836"
      },
      "outputs": [
        {
          "data": {
            "text/plain": [
              "2610628434480"
            ]
          },
          "execution_count": 20,
          "metadata": {},
          "output_type": "execute_result"
        }
      ],
      "source": [
        "name='hello' \n",
        "name\n",
        "id(name)"
      ]
    },
    {
      "cell_type": "code",
      "execution_count": null,
      "id": "korean-recycling",
      "metadata": {
        "id": "korean-recycling",
        "outputId": "e6a63473-88a4-4148-aeb2-be08f1e8f5a7"
      },
      "outputs": [
        {
          "name": "stdout",
          "output_type": "stream",
          "text": [
            "hellog\n",
            "2610628432304\n"
          ]
        }
      ],
      "source": [
        "name +='g'\n",
        "print(name)\n",
        "print(id(name))"
      ]
    },
    {
      "cell_type": "code",
      "execution_count": null,
      "id": "intimate-patio",
      "metadata": {
        "id": "intimate-patio",
        "outputId": "07b9eb0e-4e19-4755-c3c9-d01275ef5a12"
      },
      "outputs": [
        {
          "name": "stdout",
          "output_type": "stream",
          "text": [
            "2610628432624\n"
          ]
        }
      ],
      "source": [
        "name='Computer'\n",
        "print(id(name))"
      ]
    },
    {
      "cell_type": "code",
      "execution_count": null,
      "id": "expressed-eugene",
      "metadata": {
        "id": "expressed-eugene",
        "outputId": "0a5f3bb8-36de-479b-d1af-2c5574b0c777"
      },
      "outputs": [
        {
          "name": "stdout",
          "output_type": "stream",
          "text": [
            "111\n"
          ]
        }
      ],
      "source": [
        "A = '10'\n",
        "B = A +'1'\n",
        "C= int(A) + int(B)\n",
        "print(C)"
      ]
    },
    {
      "cell_type": "code",
      "execution_count": null,
      "id": "green-evolution",
      "metadata": {
        "id": "green-evolution",
        "outputId": "53491c44-7fef-4774-e43d-a056c8c9edba"
      },
      "outputs": [
        {
          "name": "stdout",
          "output_type": "stream",
          "text": [
            "[1, 2, 'howru', 4, 5]\n"
          ]
        }
      ],
      "source": [
        "List=[1,2,'howru',4,5]\n",
        "print(List)"
      ]
    },
    {
      "cell_type": "code",
      "execution_count": null,
      "id": "difficult-driving",
      "metadata": {
        "id": "difficult-driving",
        "outputId": "e003e5da-f180-4230-b31c-6cffb9d16ed7"
      },
      "outputs": [
        {
          "name": "stdout",
          "output_type": "stream",
          "text": [
            "[20, 2, 3, 4, 5]\n"
          ]
        }
      ],
      "source": [
        "List[0]=20 \n",
        "print(List)"
      ]
    },
    {
      "cell_type": "code",
      "execution_count": null,
      "id": "convertible-dancing",
      "metadata": {
        "id": "convertible-dancing",
        "outputId": "0f78e812-d161-4755-a80e-1baaf4b6c44a"
      },
      "outputs": [
        {
          "name": "stdout",
          "output_type": "stream",
          "text": [
            "[20, 2, 3, 8, 5]\n"
          ]
        }
      ],
      "source": [
        "List[3]=8 \n",
        "print(List)"
      ]
    },
    {
      "cell_type": "code",
      "execution_count": null,
      "id": "dangerous-seeking",
      "metadata": {
        "id": "dangerous-seeking",
        "outputId": "38aba059-61b6-47bc-f135-208367ef4185"
      },
      "outputs": [
        {
          "name": "stdout",
          "output_type": "stream",
          "text": [
            "(1, 2, 'hi', [1, 2, 'howru', 4, 5])\n"
          ]
        }
      ],
      "source": [
        "tuple=(1,2,'hi',List)\n",
        "print(tuple)"
      ]
    },
    {
      "cell_type": "code",
      "execution_count": null,
      "id": "electrical-nigeria",
      "metadata": {
        "id": "electrical-nigeria",
        "outputId": "4276e084-a4db-49a6-cb1b-b46d99162ed6"
      },
      "outputs": [
        {
          "name": "stdout",
          "output_type": "stream",
          "text": [
            "i\n"
          ]
        }
      ],
      "source": [
        "print(tuple[2][1])"
      ]
    },
    {
      "cell_type": "code",
      "execution_count": null,
      "id": "integrated-honor",
      "metadata": {
        "id": "integrated-honor",
        "outputId": "3998cbe7-4a9e-4f81-bf2a-a4dae805cf73"
      },
      "outputs": [
        {
          "name": "stdout",
          "output_type": "stream",
          "text": [
            "r\n"
          ]
        }
      ],
      "source": [
        "print(tuple[3][2][3])"
      ]
    },
    {
      "cell_type": "code",
      "execution_count": null,
      "id": "internal-ethics",
      "metadata": {
        "id": "internal-ethics",
        "outputId": "811a2c0d-2efc-4e04-d147-738c5ff78746"
      },
      "outputs": [
        {
          "ename": "TypeError",
          "evalue": "'tuple' object does not support item assignment",
          "output_type": "error",
          "traceback": [
            "\u001b[1;31m---------------------------------------------------------------------------\u001b[0m",
            "\u001b[1;31mTypeError\u001b[0m                                 Traceback (most recent call last)",
            "\u001b[1;32m<ipython-input-22-fea23c1cfe8c>\u001b[0m in \u001b[0;36m<module>\u001b[1;34m\u001b[0m\n\u001b[1;32m----> 1\u001b[1;33m \u001b[0mtuple\u001b[0m\u001b[1;33m[\u001b[0m\u001b[1;36m0\u001b[0m\u001b[1;33m]\u001b[0m\u001b[1;33m=\u001b[0m\u001b[1;36m20\u001b[0m\u001b[1;33m\u001b[0m\u001b[1;33m\u001b[0m\u001b[0m\n\u001b[0m\u001b[0;32m      2\u001b[0m \u001b[0mprint\u001b[0m\u001b[1;33m(\u001b[0m\u001b[0mtuple\u001b[0m\u001b[1;33m)\u001b[0m\u001b[1;33m\u001b[0m\u001b[1;33m\u001b[0m\u001b[0m\n",
            "\u001b[1;31mTypeError\u001b[0m: 'tuple' object does not support item assignment"
          ]
        }
      ],
      "source": [
        "tuple[0]=20 \n",
        "print(tuple)"
      ]
    },
    {
      "cell_type": "code",
      "execution_count": null,
      "id": "prescription-paper",
      "metadata": {
        "id": "prescription-paper"
      },
      "outputs": [],
      "source": [
        ""
      ]
    },
    {
      "cell_type": "code",
      "execution_count": null,
      "id": "olympic-lesson",
      "metadata": {
        "id": "olympic-lesson"
      },
      "outputs": [],
      "source": [
        "# Read a dataset with missing values\n",
        "import pandas as pd\n",
        "flights = pd.read_csv(\"https://raw.githubusercontent.com/PacktPublishing/Pandas-Cookbook/master/data/flights.csv\")"
      ]
    },
    {
      "cell_type": "code",
      "execution_count": null,
      "id": "documentary-sterling",
      "metadata": {
        "id": "documentary-sterling"
      },
      "outputs": [],
      "source": [
        "# Select the rows that have at least one missing value\n",
        "flights[flights.isnull().any(axis=1)].head()"
      ]
    },
    {
      "cell_type": "code",
      "execution_count": null,
      "id": "modern-radical",
      "metadata": {
        "id": "modern-radical"
      },
      "outputs": [],
      "source": [
        "flights.shape"
      ]
    },
    {
      "cell_type": "code",
      "execution_count": null,
      "id": "dirty-saturday",
      "metadata": {
        "id": "dirty-saturday"
      },
      "outputs": [],
      "source": [
        "flights.tail()"
      ]
    },
    {
      "cell_type": "code",
      "execution_count": null,
      "id": "champion-temple",
      "metadata": {
        "id": "champion-temple"
      },
      "outputs": [],
      "source": [
        "flights.dropna(how='all')"
      ]
    },
    {
      "cell_type": "code",
      "execution_count": null,
      "id": "impressive-dinner",
      "metadata": {
        "id": "impressive-dinner"
      },
      "outputs": [],
      "source": [
        "flights[['DEP_DELAY','ARR_DELAY']].agg(['min','mean','max'])"
      ]
    },
    {
      "cell_type": "code",
      "execution_count": null,
      "id": "subjective-nomination",
      "metadata": {
        "id": "subjective-nomination"
      },
      "outputs": [],
      "source": [
        "flights.describe()"
      ]
    },
    {
      "cell_type": "code",
      "execution_count": null,
      "id": "pregnant-scholarship",
      "metadata": {
        "id": "pregnant-scholarship"
      },
      "outputs": [],
      "source": [
        "import seaborn as sns\n",
        "sns.pairplot(flights)"
      ]
    },
    {
      "cell_type": "code",
      "execution_count": null,
      "id": "equipped-lyric",
      "metadata": {
        "id": "equipped-lyric"
      },
      "outputs": [],
      "source": [
        "d = {\"age\":43, (\"hello\",\"world\"):1, \"flag\": [\"red\",\"white\",\"blue\"]}"
      ]
    },
    {
      "cell_type": "code",
      "execution_count": null,
      "id": "comparable-session",
      "metadata": {
        "id": "comparable-session"
      },
      "outputs": [],
      "source": [
        "d['flag'][1][3]"
      ]
    },
    {
      "cell_type": "code",
      "execution_count": null,
      "id": "measured-piano",
      "metadata": {
        "id": "measured-piano"
      },
      "outputs": [],
      "source": [
        "fruit = 'Banana'\n",
        "fruit[0] = 'b'"
      ]
    },
    {
      "cell_type": "code",
      "execution_count": null,
      "id": "introductory-institute",
      "metadata": {
        "id": "introductory-institute"
      },
      "outputs": [],
      "source": [
        "x = fruit.lower()"
      ]
    },
    {
      "cell_type": "code",
      "execution_count": null,
      "id": "pressing-channels",
      "metadata": {
        "id": "pressing-channels"
      },
      "outputs": [],
      "source": [
        "id(fruit)"
      ]
    },
    {
      "cell_type": "code",
      "execution_count": null,
      "id": "minor-integral",
      "metadata": {
        "id": "minor-integral"
      },
      "outputs": [],
      "source": [
        "id(x)"
      ]
    },
    {
      "cell_type": "code",
      "execution_count": null,
      "id": "right-integration",
      "metadata": {
        "id": "right-integration"
      },
      "outputs": [],
      "source": [
        "n = 1\n",
        "num= int(input('Enter the Nunber'))\n",
        "while n<= num :\n",
        "    print(n)\n",
        "    n+=1\n"
      ]
    },
    {
      "cell_type": "code",
      "execution_count": null,
      "id": "super-parking",
      "metadata": {
        "id": "super-parking"
      },
      "outputs": [],
      "source": [
        "print('Before')\n",
        "for value in [9, 41, 12, 3, 74, 15] :\n",
        "    if value > 20: \n",
        "        print('Large number',value)\n",
        "print('After')\n"
      ]
    },
    {
      "cell_type": "code",
      "execution_count": null,
      "id": "biblical-thesis",
      "metadata": {
        "id": "biblical-thesis"
      },
      "outputs": [],
      "source": [
        "smallest = None\n",
        "for value in [9, 41, 12, 3, 74, 15] : \n",
        "     if smallest is None : \n",
        "         smallest = value   \n",
        "     elif value < smallest : \n",
        "         smallest = value   \n",
        "     print(smallest, value)\n",
        "print('After', smallest)\n"
      ]
    },
    {
      "cell_type": "code",
      "execution_count": null,
      "id": "smoking-sheffield",
      "metadata": {
        "id": "smoking-sheffield"
      },
      "outputs": [],
      "source": [
        "def average( prices):\n",
        "    total = 0 \n",
        "    for price in prices: \n",
        "        total = total + price \n",
        "    avg = total/len(prices)\n",
        "    return avg\n",
        "numbers = [1,2,3,4,5]\n",
        "my_average = average(numbers)\n",
        "print(my_average) "
      ]
    },
    {
      "cell_type": "code",
      "execution_count": null,
      "id": "declared-chess",
      "metadata": {
        "id": "declared-chess",
        "outputId": "5d60a35c-4424-4219-e792-b9c2549a818e"
      },
      "outputs": [
        {
          "name": "stdout",
          "output_type": "stream",
          "text": [
            "25\n",
            "avg 50\n",
            "total 12.5\n"
          ]
        }
      ],
      "source": [
        "def average(numbers, lst):\n",
        "    total = 0\n",
        "    for num in numbers:\n",
        "        total = total + num\n",
        "    avg = total/len(lst)\n",
        "    return avg, total\n",
        "def TEST():\n",
        "    prices = [20, 30]\n",
        "    price = [200, 300, 400, 100]\n",
        "    total1, avg1 = average(prices,price)\n",
        "    print(order_goal)\n",
        "    print('avg',avg1)\n",
        "    print('total',total1)\n",
        "order_goal = 25\n",
        "TEST()"
      ]
    },
    {
      "cell_type": "code",
      "execution_count": null,
      "id": "diverse-jackson",
      "metadata": {
        "id": "diverse-jackson"
      },
      "outputs": [],
      "source": [
        "s = 'hi'\n",
        "print(s*3)"
      ]
    },
    {
      "cell_type": "code",
      "execution_count": null,
      "id": "similar-manor",
      "metadata": {
        "id": "similar-manor"
      },
      "outputs": [],
      "source": [
        "i =1 \n",
        "i+=1\n",
        "i"
      ]
    },
    {
      "cell_type": "code",
      "execution_count": null,
      "id": "similar-tuning",
      "metadata": {
        "id": "similar-tuning"
      },
      "outputs": [],
      "source": [
        "a = ['spam', 'eggs', 100, 1234, 2*2]\n",
        "a[-4:4]"
      ]
    },
    {
      "cell_type": "code",
      "execution_count": null,
      "id": "thrown-jimmy",
      "metadata": {
        "id": "thrown-jimmy"
      },
      "outputs": [],
      "source": [
        "a[2] = a[2] + 23\n",
        "a[0:2] = [1,12]\n",
        "a"
      ]
    },
    {
      "cell_type": "code",
      "execution_count": null,
      "id": "rental-consequence",
      "metadata": {
        "id": "rental-consequence"
      },
      "outputs": [],
      "source": [
        "a[0] = []\n",
        "len(a)\n",
        "a"
      ]
    },
    {
      "cell_type": "code",
      "execution_count": null,
      "id": "broken-particular",
      "metadata": {
        "id": "broken-particular"
      },
      "outputs": [],
      "source": [
        "print(d[\"flag\"][2][2])"
      ]
    },
    {
      "cell_type": "code",
      "execution_count": null,
      "id": "related-region",
      "metadata": {
        "id": "related-region"
      },
      "outputs": [],
      "source": [
        "print(d.get(\"flagssss\"))"
      ]
    },
    {
      "cell_type": "code",
      "execution_count": null,
      "id": "south-creation",
      "metadata": {
        "id": "south-creation"
      },
      "outputs": [],
      "source": [
        "print(d.values())"
      ]
    },
    {
      "cell_type": "code",
      "execution_count": null,
      "id": "manufactured-speed",
      "metadata": {
        "id": "manufactured-speed"
      },
      "outputs": [],
      "source": [
        "my_list = [1, 2, 3, 4] \n",
        "your_list = [4, 3, 2, 1] \n",
        "his_list = [1, 2, 3, 4]\n",
        "print(my_list == your_list) \n",
        "print(my_list == his_list)"
      ]
    },
    {
      "cell_type": "code",
      "execution_count": null,
      "id": "processed-liberty",
      "metadata": {
        "id": "processed-liberty"
      },
      "outputs": [],
      "source": [
        "my_dict = {1:1, 2:2, 3:3, 4:4} \n",
        "your_dict = {4:4, 3:3, 2:2, 1:1}\n",
        "print(my_dict == your_dict)"
      ]
    },
    {
      "cell_type": "code",
      "execution_count": null,
      "id": "vocal-method",
      "metadata": {
        "id": "vocal-method"
      },
      "outputs": [],
      "source": [
        "for num in [1,2,3,4,5]:\n",
        "    print(num**2)"
      ]
    },
    {
      "cell_type": "code",
      "execution_count": null,
      "id": "vocal-following",
      "metadata": {
        "id": "vocal-following"
      },
      "outputs": [],
      "source": [
        "for num in 'computer':\n",
        "    print(num)"
      ]
    },
    {
      "cell_type": "code",
      "execution_count": null,
      "id": "posted-johnston",
      "metadata": {
        "id": "posted-johnston"
      },
      "outputs": [],
      "source": [
        "for items in d:\n",
        "    print(items)\n",
        "    #print(key)"
      ]
    },
    {
      "cell_type": "code",
      "execution_count": null,
      "id": "owned-melissa",
      "metadata": {
        "id": "owned-melissa"
      },
      "outputs": [],
      "source": [
        "total = 0\n",
        "prices = [2.50, 3.50, 4.50]\n",
        "for price in prices:\n",
        "    print('Price is', price) \n",
        "    total = total + price\n",
        "print('total is', total)\n",
        "average = total/len(prices) \n",
        "print('avg is', average)"
      ]
    },
    {
      "cell_type": "code",
      "execution_count": null,
      "id": "younger-virgin",
      "metadata": {
        "id": "younger-virgin"
      },
      "outputs": [],
      "source": [
        "import random\n",
        "r1 = random.random() # Gives us a random number from [0.0, 1.0\n",
        "print(r1)\n",
        "r2 = random.choice([1,2,3,4,5]) # Gives us a random choice from a list\n",
        "print(r2)\n",
        "r3 = random.randint(1, 1000) # Gives us a random number in this range\n",
        "print(r3)\n"
      ]
    },
    {
      "cell_type": "code",
      "execution_count": null,
      "id": "unlike-breathing",
      "metadata": {
        "id": "unlike-breathing"
      },
      "outputs": [],
      "source": [
        "for keys,items in d.items():\n",
        "    print(keys)\n",
        "    print(items)    "
      ]
    },
    {
      "cell_type": "code",
      "execution_count": null,
      "id": "extended-anthropology",
      "metadata": {
        "id": "extended-anthropology"
      },
      "outputs": [],
      "source": [
        "a = 1"
      ]
    },
    {
      "cell_type": "code",
      "execution_count": null,
      "id": "noticed-incentive",
      "metadata": {
        "id": "noticed-incentive"
      },
      "outputs": [],
      "source": [
        "print(type(a))"
      ]
    },
    {
      "cell_type": "code",
      "execution_count": null,
      "id": "fixed-salem",
      "metadata": {
        "id": "fixed-salem"
      },
      "outputs": [],
      "source": [
        "print(a)"
      ]
    },
    {
      "cell_type": "code",
      "execution_count": null,
      "id": "frequent-sunday",
      "metadata": {
        "id": "frequent-sunday"
      },
      "outputs": [],
      "source": [
        "print(id(a))"
      ]
    },
    {
      "cell_type": "code",
      "execution_count": null,
      "id": "molecular-excellence",
      "metadata": {
        "id": "molecular-excellence"
      },
      "outputs": [],
      "source": [
        "a = str (a) + ' hello'"
      ]
    },
    {
      "cell_type": "code",
      "execution_count": null,
      "id": "tough-script",
      "metadata": {
        "id": "tough-script"
      },
      "outputs": [],
      "source": [
        "print(id(a))"
      ]
    },
    {
      "cell_type": "code",
      "execution_count": null,
      "id": "looking-bunch",
      "metadata": {
        "id": "looking-bunch"
      },
      "outputs": [],
      "source": [
        ""
      ]
    },
    {
      "cell_type": "code",
      "execution_count": null,
      "id": "commercial-flower",
      "metadata": {
        "id": "commercial-flower"
      },
      "outputs": [],
      "source": [
        "# Python automatically converts\n",
        "# a to int\n",
        "a = 7\n",
        "print(type(a)) \n",
        "# Python automatically converts\n",
        "# b to float\n",
        "b = 3.0\n",
        "print(type(b)) \n",
        "# Python automatically converts\n",
        "# c to float as it is a float addition\n",
        "c = a + b\n",
        "print(c)\n",
        "print(type(c)) \n",
        "# Python automatically converts\n",
        "# d to float as it is a float multiplication\n",
        "d = a * b\n",
        "print(d)\n",
        "print(type(d))"
      ]
    },
    {
      "cell_type": "code",
      "execution_count": null,
      "id": "modern-archive",
      "metadata": {
        "id": "modern-archive"
      },
      "outputs": [],
      "source": [
        ""
      ]
    },
    {
      "cell_type": "code",
      "execution_count": null,
      "id": "systematic-moscow",
      "metadata": {
        "id": "systematic-moscow"
      },
      "outputs": [],
      "source": [
        "import numpy as np\n",
        "B = np.random.rand(1000000)\n",
        "%timeit sum(B)\n",
        "%timeit np.sum(B)\n"
      ]
    },
    {
      "cell_type": "code",
      "execution_count": null,
      "id": "intimate-middle",
      "metadata": {
        "id": "intimate-middle"
      },
      "outputs": [],
      "source": [
        "\n",
        "%%timeit\n",
        "S=0\n",
        "for x in B:\n",
        "    S = S + x\n",
        "print(S)"
      ]
    },
    {
      "cell_type": "code",
      "execution_count": null,
      "id": "desirable-silence",
      "metadata": {
        "id": "desirable-silence"
      },
      "outputs": [],
      "source": [
        "price = input(\"Enter the price: \")\n",
        "price = float(price) \n",
        "print('Price =', price)\n",
        "print('Not a number!')"
      ]
    },
    {
      "cell_type": "code",
      "execution_count": null,
      "id": "compressed-pacific",
      "metadata": {
        "id": "compressed-pacific"
      },
      "outputs": [],
      "source": [
        "price = input(\"Enter the price: \")\n",
        "try:\n",
        "    price = float(price) \n",
        "    print('Price =', price)\n",
        "except ValueError:\n",
        "    print('Not a number!')"
      ]
    },
    {
      "cell_type": "code",
      "execution_count": null,
      "id": "obvious-employee",
      "metadata": {
        "id": "obvious-employee"
      },
      "outputs": [],
      "source": [
        "price = input(\"Enter the price: \")\n",
        "print(type(price))\n",
        "price = int(price) \n",
        "print('Price =', price)\n",
        "print(type(price))"
      ]
    },
    {
      "cell_type": "code",
      "execution_count": null,
      "id": "abandoned-makeup",
      "metadata": {
        "id": "abandoned-makeup"
      },
      "outputs": [],
      "source": [
        "c = 'hi' + str(10)\n",
        "print(c)"
      ]
    },
    {
      "cell_type": "code",
      "execution_count": null,
      "id": "alternate-latter",
      "metadata": {
        "id": "alternate-latter"
      },
      "outputs": [],
      "source": [
        "type(c)"
      ]
    },
    {
      "cell_type": "code",
      "execution_count": null,
      "id": "featured-student",
      "metadata": {
        "id": "featured-student"
      },
      "outputs": [],
      "source": [
        "len(c)"
      ]
    },
    {
      "cell_type": "code",
      "execution_count": null,
      "id": "brave-monroe",
      "metadata": {
        "id": "brave-monroe"
      },
      "outputs": [],
      "source": [
        "import numpy as np\n",
        "B = np.random.rand(1000000)\n",
        "%timeit sum(B)"
      ]
    },
    {
      "cell_type": "code",
      "execution_count": null,
      "id": "quick-nickel",
      "metadata": {
        "id": "quick-nickel"
      },
      "outputs": [],
      "source": [
        "%timeit np.sum(B)"
      ]
    },
    {
      "cell_type": "code",
      "execution_count": null,
      "id": "recent-large",
      "metadata": {
        "id": "recent-large"
      },
      "outputs": [],
      "source": [
        "%%timeit\n",
        "S=0\n",
        "for x in B:\n",
        "    S+=x"
      ]
    },
    {
      "cell_type": "code",
      "execution_count": null,
      "id": "intimate-vehicle",
      "metadata": {
        "id": "intimate-vehicle"
      },
      "outputs": [],
      "source": [
        "a = 33 \n",
        "b = 200 \n",
        "if b > a:\n",
        "    print(\"b is greater than a\")\n",
        "print(a)\n",
        "print(b)"
      ]
    },
    {
      "cell_type": "code",
      "execution_count": null,
      "id": "announced-provider",
      "metadata": {
        "id": "announced-provider"
      },
      "outputs": [],
      "source": [
        "x,y =12,10 \n",
        "if(x < y): \n",
        "    st= \"x is less than y\" \n",
        "elif (x == y):\n",
        "    st= \"x is same as y\" \n",
        "else: \n",
        "    st=\"x is greater than y\" \n",
        "print(st)\n"
      ]
    },
    {
      "cell_type": "code",
      "execution_count": null,
      "id": "egyptian-harrison",
      "metadata": {
        "id": "egyptian-harrison"
      },
      "outputs": [],
      "source": [
        "list=[1,2,100, 3, 55, 4,73,5]\n",
        "for i in list:\n",
        "    print(i)\n",
        "    \n",
        "print(i)"
      ]
    },
    {
      "cell_type": "code",
      "execution_count": null,
      "id": "proud-driving",
      "metadata": {
        "id": "proud-driving"
      },
      "outputs": [],
      "source": [
        "newList = list.sort()\n",
        "print(newList)"
      ]
    },
    {
      "cell_type": "code",
      "execution_count": null,
      "id": "marked-spectrum",
      "metadata": {
        "id": "marked-spectrum"
      },
      "outputs": [],
      "source": [
        "print(list)"
      ]
    },
    {
      "cell_type": "code",
      "execution_count": null,
      "id": "aerial-zealand",
      "metadata": {
        "id": "aerial-zealand"
      },
      "outputs": [],
      "source": [
        "list1 =  sorted(list)\n",
        "print(list1)"
      ]
    },
    {
      "cell_type": "code",
      "execution_count": null,
      "id": "specialized-jaguar",
      "metadata": {
        "id": "specialized-jaguar"
      },
      "outputs": [],
      "source": [
        "while (i<10) :\n",
        "    print(i)\n",
        "    i = i+1"
      ]
    },
    {
      "cell_type": "code",
      "execution_count": null,
      "id": "sharp-german",
      "metadata": {
        "id": "sharp-german"
      },
      "outputs": [],
      "source": [
        "range(3,7)"
      ]
    },
    {
      "cell_type": "code",
      "execution_count": null,
      "id": "aboriginal-registrar",
      "metadata": {
        "id": "aboriginal-registrar"
      },
      "outputs": [],
      "source": [
        "li = range(13,7) \n",
        "li"
      ]
    },
    {
      "cell_type": "code",
      "execution_count": null,
      "id": "junior-drove",
      "metadata": {
        "id": "junior-drove"
      },
      "outputs": [],
      "source": [
        "print(li)"
      ]
    },
    {
      "cell_type": "code",
      "execution_count": null,
      "id": "circular-tourism",
      "metadata": {
        "id": "circular-tourism"
      },
      "outputs": [],
      "source": [
        "for i in range(3,17,4):\n",
        "    print(i)"
      ]
    },
    {
      "cell_type": "code",
      "execution_count": null,
      "id": "animal-philosophy",
      "metadata": {
        "id": "animal-philosophy"
      },
      "outputs": [],
      "source": [
        "for i in range(10):\n",
        "    print(i)"
      ]
    },
    {
      "cell_type": "code",
      "execution_count": null,
      "id": "reserved-offset",
      "metadata": {
        "id": "reserved-offset"
      },
      "outputs": [],
      "source": [
        "for i in range(10):\n",
        "    i=i+1\n",
        "    print(i)"
      ]
    },
    {
      "cell_type": "code",
      "execution_count": null,
      "id": "foreign-baptist",
      "metadata": {
        "id": "foreign-baptist",
        "outputId": "62200d5d-f67b-4fc8-9e67-1d434829fc9b"
      },
      "outputs": [
        {
          "name": "stdout",
          "output_type": "stream",
          "text": [
            "1\n",
            "2\n",
            "3\n",
            "4\n",
            "5\n",
            "6\n",
            "7\n"
          ]
        }
      ],
      "source": [
        "li = [1,2,3,4,5,6,7]\n",
        "j = 0\n",
        "for i in li:\n",
        "    print(i)"
      ]
    },
    {
      "cell_type": "code",
      "execution_count": null,
      "id": "structural-subcommittee",
      "metadata": {
        "id": "structural-subcommittee"
      },
      "outputs": [],
      "source": [
        "print(j)\n",
        "print(type(j))"
      ]
    },
    {
      "cell_type": "code",
      "execution_count": null,
      "id": "cleared-employee",
      "metadata": {
        "id": "cleared-employee",
        "outputId": "a2ce7220-d87c-4aa0-aa56-8168e6343d3e"
      },
      "outputs": [
        {
          "name": "stdout",
          "output_type": "stream",
          "text": [
            "7\n",
            "6\n",
            "5\n"
          ]
        }
      ],
      "source": [
        "length = len(li)\n",
        "while length >= 3:\n",
        "    print(length)\n",
        "    if length <= 5:\n",
        "        break\n",
        "    length = length - 1        "
      ]
    },
    {
      "cell_type": "code",
      "execution_count": null,
      "id": "leading-slovakia",
      "metadata": {
        "id": "leading-slovakia",
        "outputId": "3363430f-2fdf-4873-f33d-906aa54dc4e0"
      },
      "outputs": [
        {
          "name": "stdout",
          "output_type": "stream",
          "text": [
            "6\n",
            "5\n",
            "4\n",
            "3\n",
            "2\n"
          ]
        }
      ],
      "source": [
        "length = len(li)\n",
        "while length >= 3:    \n",
        "    length = length - 1\n",
        "    print(length)\n",
        "    if length >= 5:\n",
        "        continue    "
      ]
    },
    {
      "cell_type": "code",
      "execution_count": null,
      "id": "capable-reynolds",
      "metadata": {
        "id": "capable-reynolds",
        "outputId": "4b34990e-21cf-4599-da18-5588f0311a39"
      },
      "outputs": [
        {
          "name": "stdout",
          "output_type": "stream",
          "text": [
            "6\n"
          ]
        }
      ],
      "source": [
        "length = len(li)\n",
        "while length >= 3:    \n",
        "    length = length - 1\n",
        "    print(length)\n",
        "    if length >= 5:\n",
        "        break    "
      ]
    },
    {
      "cell_type": "code",
      "execution_count": null,
      "id": "continuous-knight",
      "metadata": {
        "id": "continuous-knight"
      },
      "outputs": [],
      "source": [
        "li = [1,2,3,4,5,6,7]\n",
        "for i in li:\n",
        "    print(i)"
      ]
    },
    {
      "cell_type": "code",
      "execution_count": null,
      "id": "sunrise-paragraph",
      "metadata": {
        "id": "sunrise-paragraph",
        "outputId": "127593c1-d076-4193-8f2b-400ce2bafd0f"
      },
      "outputs": [
        {
          "name": "stdout",
          "output_type": "stream",
          "text": [
            "7\n",
            "14\n",
            "21\n",
            "28\n",
            "35\n",
            "42\n",
            "49\n",
            "49\n"
          ]
        }
      ],
      "source": [
        "li = [1,2,3,4,5,6,7]\n",
        "j = 0\n",
        "for i in li:\n",
        "    for i in li:\n",
        "        j=j+1\n",
        "    print(j)\n",
        "print(j)"
      ]
    },
    {
      "cell_type": "code",
      "execution_count": null,
      "id": "gentle-mathematics",
      "metadata": {
        "id": "gentle-mathematics",
        "outputId": "b5ba5e28-ffa8-45d6-8926-ae58fbbdcd7a"
      },
      "outputs": [
        {
          "name": "stdout",
          "output_type": "stream",
          "text": [
            "28\n",
            "56\n",
            "84\n",
            "112\n",
            "140\n",
            "168\n",
            "196\n",
            "196\n"
          ]
        }
      ],
      "source": [
        "li = [1,2,3,4,5,6,7]\n",
        "j = 0\n",
        "for i in li:\n",
        "    for i in li:\n",
        "        j=j+i\n",
        "    print(j)\n",
        "print(j)"
      ]
    },
    {
      "cell_type": "code",
      "execution_count": null,
      "id": "brilliant-hurricane",
      "metadata": {
        "id": "brilliant-hurricane"
      },
      "outputs": [],
      "source": [
        "x = int(input(\"x? \"))\n",
        "y = int(input(\"y? \"))\n",
        "if x < y: \n",
        "    print('x is less than y') \n",
        "elif x > y: \n",
        "    print('x is greater than y') \n",
        "else: \n",
        "    print('x and y are equal')\n"
      ]
    },
    {
      "cell_type": "code",
      "execution_count": null,
      "id": "strong-beauty",
      "metadata": {
        "id": "strong-beauty",
        "outputId": "0815bdc4-92a3-4799-a2b3-8c9fd6fbc57f"
      },
      "outputs": [
        {
          "name": "stdout",
          "output_type": "stream",
          "text": [
            "highest 74\n"
          ]
        }
      ],
      "source": [
        "highest = 0\n",
        "for value in [9, 41, 12, 3, 74, 15] :\n",
        "    if value > highest:\n",
        "        highest = value \n",
        "print('highest' , highest)"
      ]
    },
    {
      "cell_type": "code",
      "execution_count": null,
      "id": "processed-archives",
      "metadata": {
        "id": "processed-archives",
        "outputId": "b2fd9e3b-7ad6-4fe4-9453-eb52bf1cf35d"
      },
      "outputs": [
        {
          "name": "stdout",
          "output_type": "stream",
          "text": [
            "highest 0\n"
          ]
        }
      ],
      "source": [
        "highest = 0\n",
        "for value in [9, 41, 12, 3, 74, 15] :\n",
        "    if value < highest:\n",
        "        highest = value \n",
        "print('highest' , highest)"
      ]
    },
    {
      "cell_type": "code",
      "execution_count": null,
      "id": "random-brooks",
      "metadata": {
        "id": "random-brooks"
      },
      "outputs": [],
      "source": [
        "list = [9, 41, 12, 3, 74, 15]\n",
        "print(list[4])"
      ]
    },
    {
      "cell_type": "code",
      "execution_count": null,
      "id": "needed-community",
      "metadata": {
        "id": "needed-community",
        "outputId": "0de51783-f301-42a4-fcca-2653a932449e"
      },
      "outputs": [
        {
          "name": "stdout",
          "output_type": "stream",
          "text": [
            "smallest 3\n"
          ]
        }
      ],
      "source": [
        "list = [9, 41, 12, 3, 74, 15]\n",
        "smallest = list[0]\n",
        "for value in list :\n",
        "    if value < smallest:\n",
        "        smallest = value        \n",
        "print('smallest' , smallest)"
      ]
    },
    {
      "cell_type": "code",
      "execution_count": null,
      "id": "accomplished-twist",
      "metadata": {
        "id": "accomplished-twist",
        "outputId": "445b2f68-7f1c-4d10-97a2-ae612acf35f5"
      },
      "outputs": [
        {
          "name": "stdout",
          "output_type": "stream",
          "text": [
            "After 1\n"
          ]
        }
      ],
      "source": [
        "smallest = None\n",
        "for value in [9, 41, 12, 3, 74, 15,103,305, 7 , 102.5, 167.44,1] : \n",
        "     if smallest is None : \n",
        "         smallest = value   \n",
        "     elif value < smallest : \n",
        "         smallest = value   \n",
        "     #print(smallest, value)\n",
        "print('After', smallest)"
      ]
    },
    {
      "cell_type": "code",
      "execution_count": null,
      "id": "premium-strategy",
      "metadata": {
        "id": "premium-strategy",
        "outputId": "bb7c1083-fd47-40d9-dde7-a0e982937c63"
      },
      "outputs": [
        {
          "data": {
            "text/plain": [
              "' '"
            ]
          },
          "execution_count": 16,
          "metadata": {},
          "output_type": "execute_result"
        }
      ],
      "source": [
        "name = \"P. Diddy\"\n",
        "name[2]"
      ]
    },
    {
      "cell_type": "code",
      "execution_count": null,
      "id": "accepting-truth",
      "metadata": {
        "id": "accepting-truth",
        "outputId": "822e7de9-93c6-423a-f924-bad8ba799264"
      },
      "outputs": [
        {
          "data": {
            "text/plain": [
              "('S', 'A')"
            ]
          },
          "execution_count": 17,
          "metadata": {},
          "output_type": "execute_result"
        }
      ],
      "source": [
        "aa='SLICEOFSPAM'\n",
        "aa[0], aa[-2]"
      ]
    },
    {
      "cell_type": "code",
      "execution_count": null,
      "id": "automotive-partner",
      "metadata": {
        "id": "automotive-partner",
        "outputId": "9bac87e8-19df-4686-f38d-1ae4c4727b94"
      },
      "outputs": [
        {
          "data": {
            "text/plain": [
              "('LICE', 'M')"
            ]
          },
          "execution_count": 29,
          "metadata": {},
          "output_type": "execute_result"
        }
      ],
      "source": [
        "aa[1:5] , aa[-1:] "
      ]
    },
    {
      "cell_type": "code",
      "execution_count": null,
      "id": "faced-carnival",
      "metadata": {
        "id": "faced-carnival",
        "outputId": "8823ad98-218d-40b0-e95f-7e5baeef603e"
      },
      "outputs": [
        {
          "data": {
            "text/plain": [
              "'SCFA'"
            ]
          },
          "execution_count": 25,
          "metadata": {},
          "output_type": "execute_result"
        }
      ],
      "source": [
        "aa[::3]"
      ]
    },
    {
      "cell_type": "code",
      "execution_count": null,
      "id": "victorian-sewing",
      "metadata": {
        "id": "victorian-sewing",
        "outputId": "857c5330-e4fa-40e8-f0ae-d567074a8e26"
      },
      "outputs": [
        {
          "data": {
            "text/plain": [
              "('MAPSFOECILS', 'MSEL')"
            ]
          },
          "execution_count": 30,
          "metadata": {},
          "output_type": "execute_result"
        }
      ],
      "source": [
        "aa[::-1] , aa[::-3]"
      ]
    },
    {
      "cell_type": "code",
      "execution_count": null,
      "id": "occupied-event",
      "metadata": {
        "id": "occupied-event"
      },
      "outputs": [],
      "source": [
        "aa[:-1]"
      ]
    },
    {
      "cell_type": "code",
      "execution_count": null,
      "id": "mounted-brush",
      "metadata": {
        "id": "mounted-brush"
      },
      "outputs": [],
      "source": [
        "hw = 'hello world' \n",
        "hw = hw.upper(), hw.title()"
      ]
    },
    {
      "cell_type": "code",
      "execution_count": null,
      "id": "decent-northeast",
      "metadata": {
        "id": "decent-northeast",
        "outputId": "d905f90f-7fa0-411d-ff93-b1ae5d01aea2"
      },
      "outputs": [
        {
          "name": "stdout",
          "output_type": "stream",
          "text": [
            "('HELLO WORLD', 'Hello World')\n"
          ]
        }
      ],
      "source": [
        "print(hw)"
      ]
    },
    {
      "cell_type": "code",
      "execution_count": null,
      "id": "honest-forward",
      "metadata": {
        "id": "honest-forward",
        "outputId": "a905d188-7f4f-4427-c4cc-2b1daccd241f"
      },
      "outputs": [
        {
          "data": {
            "text/plain": [
              "tuple"
            ]
          },
          "execution_count": 33,
          "metadata": {},
          "output_type": "execute_result"
        }
      ],
      "source": [
        "type(hw)"
      ]
    },
    {
      "cell_type": "code",
      "execution_count": null,
      "id": "excess-bargain",
      "metadata": {
        "id": "excess-bargain",
        "outputId": "75515a9d-f28c-4bec-8430-e3602f857ecd"
      },
      "outputs": [
        {
          "data": {
            "text/plain": [
              "(False, False)"
            ]
          },
          "execution_count": 36,
          "metadata": {},
          "output_type": "execute_result"
        }
      ],
      "source": [
        "hw = 'hello world' \n",
        "hw = hw.upper()\n",
        "hw.isdigit(), hw.islower()"
      ]
    },
    {
      "cell_type": "code",
      "execution_count": null,
      "id": "atmospheric-crest",
      "metadata": {
        "id": "atmospheric-crest",
        "outputId": "a55ed8a5-4d83-4e94-9d6a-c883237eb6a8"
      },
      "outputs": [
        {
          "name": "stdout",
          "output_type": "stream",
          "text": [
            "And me too!\n",
            "though I am much longer \n",
            "than the others :)\n",
            "And me too!\n",
            "though I am much longer\n",
            "than the others :)\n"
          ]
        }
      ],
      "source": [
        "s = '''And me too!\n",
        "though I am much longer \n",
        "than the others :)'''\n",
        "a= 'And me too!\\nthough I am much longer\\nthan the others :)'\n",
        "print(s)\n",
        "print(a)"
      ]
    },
    {
      "cell_type": "code",
      "execution_count": null,
      "id": "reliable-professional",
      "metadata": {
        "id": "reliable-professional",
        "outputId": "cd835212-fab5-409d-a54c-07ca16754ca4"
      },
      "outputs": [
        {
          "name": "stdout",
          "output_type": "stream",
          "text": [
            "Hello\t \"there\n",
            "How are you?\n"
          ]
        }
      ],
      "source": [
        "s = \"Hello\\t \\\"there\\nHow are you?\"\n",
        "print(s)"
      ]
    },
    {
      "cell_type": "code",
      "execution_count": null,
      "id": "coated-brief",
      "metadata": {
        "id": "coated-brief",
        "outputId": "3c6e0ecb-6adc-426d-9aa9-1626bd112cfc"
      },
      "outputs": [
        {
          "data": {
            "text/plain": [
              "False"
            ]
          },
          "execution_count": 48,
          "metadata": {},
          "output_type": "execute_result"
        }
      ],
      "source": [
        "\"jell\" < \"jela\""
      ]
    },
    {
      "cell_type": "code",
      "execution_count": null,
      "id": "nearby-diameter",
      "metadata": {
        "id": "nearby-diameter"
      },
      "outputs": [],
      "source": [
        "def average(numbers):\n",
        "    total = 0\n",
        "    for num in numbers:\n",
        "        total = total + num\n",
        "    avg = total/len(numbers)\n",
        "    return avg, total\n",
        "def main():\n",
        "    prices = [29, 21, 55, 10, 12,16,190,347,1024, 9403, 125, 341942, 20394, 109236, 3470, 5732, 1293, 10039,5783]\n",
        "    result, tot = average(prices)\n",
        "    print(tot)\n",
        "    print(result)\n",
        "main()"
      ]
    },
    {
      "cell_type": "code",
      "execution_count": null,
      "id": "regular-temperature",
      "metadata": {
        "id": "regular-temperature"
      },
      "outputs": [],
      "source": [
        "# write one generic function to find the nth highest in a list\n",
        "# Assignment"
      ]
    },
    {
      "cell_type": "code",
      "execution_count": null,
      "id": "aboriginal-findings",
      "metadata": {
        "id": "aboriginal-findings"
      },
      "outputs": [],
      "source": [
        "def main():\n",
        "    prices = [29, 21, 55, 10]\n",
        "    result = average(prices)\n",
        "    print(var1)\n",
        "    print(result)\n",
        "def average(numbers):\n",
        "    total = 0\n",
        "    for num in numbers:\n",
        "        total = total + num\n",
        "    avg = total/len(numbers)\n",
        "    return avg\n",
        "var1 = 25\n",
        "main()"
      ]
    },
    {
      "cell_type": "code",
      "execution_count": null,
      "id": "received-termination",
      "metadata": {
        "id": "received-termination"
      },
      "outputs": [],
      "source": [
        "while True :\n",
        "    print('hi')"
      ]
    },
    {
      "cell_type": "code",
      "execution_count": null,
      "id": "spiritual-viking",
      "metadata": {
        "id": "spiritual-viking"
      },
      "outputs": [],
      "source": [
        "a = 10\n",
        "while a < 20 :\n",
        "    a += 1\n",
        "    if(a == 15):\n",
        "        continue    \n",
        "    print(a)\n",
        "    "
      ]
    },
    {
      "cell_type": "code",
      "execution_count": null,
      "id": "clear-justice",
      "metadata": {
        "id": "clear-justice"
      },
      "outputs": [],
      "source": [
        ""
      ]
    }
  ],
  "metadata": {
    "kernelspec": {
      "display_name": "Python 3",
      "language": "python",
      "name": "python3"
    },
    "language_info": {
      "codemirror_mode": {
        "name": "ipython",
        "version": 3
      },
      "file_extension": ".py",
      "mimetype": "text/x-python",
      "name": "python",
      "nbconvert_exporter": "python",
      "pygments_lexer": "ipython3",
      "version": "3.7.10"
    },
    "colab": {
      "name": "IF_Program.ipynb",
      "provenance": [],
      "include_colab_link": true
    }
  },
  "nbformat": 4,
  "nbformat_minor": 5
}
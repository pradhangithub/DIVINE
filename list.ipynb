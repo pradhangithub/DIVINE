{
  "cells": [
    {
      "cell_type": "markdown",
      "metadata": {
        "id": "view-in-github",
        "colab_type": "text"
      },
      "source": [
        "<a href=\"https://colab.research.google.com/github/pradhangithub/DIVINE/blob/main/list.ipynb\" target=\"_parent\"><img src=\"https://colab.research.google.com/assets/colab-badge.svg\" alt=\"Open In Colab\"/></a>"
      ]
    },
    {
      "cell_type": "code",
      "execution_count": null,
      "metadata": {
        "id": "M5utkOVWuG3S"
      },
      "outputs": [],
      "source": [
        ""
      ]
    },
    {
      "cell_type": "code",
      "execution_count": null,
      "metadata": {
        "id": "mNOduEZeuG3T",
        "outputId": "3fe90711-d96c-4d91-caa7-f333a7ede097"
      },
      "outputs": [
        {
          "name": "stdout",
          "output_type": "stream",
          "text": [
            "Before\n",
            "9 9\n",
            "9 41\n",
            "9 12\n",
            "3 3\n",
            "3 74\n",
            "3 15\n",
            "After 3\n"
          ]
        }
      ],
      "source": [
        "smallest = None\n",
        "print('Before')\n",
        "for value in [9, 41, 12, 3, 74, 15] : \n",
        "     if smallest is None : \n",
        "         smallest = value   \n",
        "     elif value < smallest : \n",
        "         smallest = value   \n",
        "     print(smallest, value)\n",
        "print('After', smallest)"
      ]
    },
    {
      "cell_type": "code",
      "execution_count": null,
      "metadata": {
        "id": "_jJQnrQPuG3W",
        "outputId": "301494a9-1f14-4edf-b7c9-1f1a37185027"
      },
      "outputs": [
        {
          "name": "stdout",
          "output_type": "stream",
          "text": [
            "A tuple: (2, 3, 4, 5)\n",
            "First element of tuple: 2\n"
          ]
        }
      ],
      "source": [
        "## Tuple - immutable\n",
        "example_tuple = (2, 3, 4, 5)\n",
        "print('A tuple:', example_tuple)\n",
        "print('First element of tuple:', example_tuple[0])"
      ]
    },
    {
      "cell_type": "code",
      "execution_count": null,
      "metadata": {
        "id": "cmqzyF1QuG3X",
        "outputId": "7ad7e085-5c80-43de-b4e9-87d061f4d6c9"
      },
      "outputs": [
        {
          "name": "stdout",
          "output_type": "stream",
          "text": [
            "[1, 2, 3, 4, 5]\n",
            "[20, 2, 3, 4, 5]\n",
            "[20, 2, 3, 8, 5]\n"
          ]
        }
      ],
      "source": [
        "List=[1,2,3,4,5] \n",
        "print(List) \n",
        "List[0]=20 \n",
        "print(List) \n",
        "List[3]=8 \n",
        "print(List) "
      ]
    },
    {
      "cell_type": "code",
      "execution_count": null,
      "metadata": {
        "id": "faFJ4YLuuG3X",
        "outputId": "f93ea0e3-5163-4fd1-e57e-49e5ba214b39"
      },
      "outputs": [
        {
          "name": "stdout",
          "output_type": "stream",
          "text": [
            "A list: [2, 3, 4, 5]\n",
            "First element of list: 2\n",
            "Appended list: [2, 3, 4, 5, 12]\n",
            "Modified list: [45, 3, 4, 5, 12]\n"
          ]
        }
      ],
      "source": [
        "## List\n",
        "example_list = [2, 3, 4, 5]\n",
        "print('A list:', example_list)\n",
        "print('First element of list:', example_list[0])\n",
        "example_list.append(12)\n",
        "print('Appended list:', example_list)\n",
        "example_list[0] = 45\n",
        "print('Modified list:', example_list)"
      ]
    },
    {
      "cell_type": "code",
      "execution_count": null,
      "metadata": {
        "id": "UV4vdbDEuG3Y",
        "outputId": "e8bee311-d303-4758-a821-33511462a381"
      },
      "outputs": [
        {
          "name": "stdout",
          "output_type": "stream",
          "text": [
            "Here is a string: ABCDEFGH\n",
            "First character: A\n",
            "Number of characters in text 8\n"
          ]
        }
      ],
      "source": [
        "## String - immutable, tuple of characters\n",
        "text = \"ABCDEFGH\"\n",
        "print('Here is a string:', text)\n",
        "print('First character:', text[0])\n",
        "print('Number of characters in text', len(text))"
      ]
    },
    {
      "cell_type": "code",
      "execution_count": null,
      "metadata": {
        "id": "kUR7f_lyuG3Z",
        "outputId": "b95d1e01-b473-4441-8d41-4e9b8acdb474"
      },
      "outputs": [
        {
          "name": "stdout",
          "output_type": "stream",
          "text": [
            "A set: {1, 2, 4, 5, 6}\n"
          ]
        }
      ],
      "source": [
        "## Set - unique unordered elements\n",
        "example_set = set([1,2,2,2,2,4,5,6,6,6])\n",
        "print('A set:', example_set)"
      ]
    },
    {
      "cell_type": "code",
      "execution_count": null,
      "metadata": {
        "id": "yzVRt__ouG3Z",
        "outputId": "f3e34dec-ffa4-45d2-f22f-132eeab5831c"
      },
      "outputs": [
        {
          "name": "stdout",
          "output_type": "stream",
          "text": [
            "hyundai\n"
          ]
        }
      ],
      "source": [
        "d = { \"foo\" : 1, \"bar\" : 2,\"brand\" : ['maruti', 'toyota','hyundai','honda'] }\n",
        "print(d[\"brand\"][2])   # 2"
      ]
    },
    {
      "cell_type": "code",
      "execution_count": null,
      "metadata": {
        "id": "SMKXTqoNuG3a"
      },
      "outputs": [],
      "source": [
        ""
      ]
    },
    {
      "cell_type": "raw",
      "metadata": {
        "id": "bU6HzMPzuG3a"
      },
      "source": [
        ""
      ]
    },
    {
      "cell_type": "code",
      "execution_count": null,
      "metadata": {
        "id": "YiVYAsJ8uG3a"
      },
      "outputs": [],
      "source": [
        "some_dict = {}\n",
        "some_dict[\"foo\"] = \"yow!\"\n",
        "print(some_dict.keys()) "
      ]
    },
    {
      "cell_type": "code",
      "execution_count": null,
      "metadata": {
        "id": "DIK1mlJIuG3b",
        "outputId": "fb4f561e-101e-45e7-c469-f8b7b16fd00f"
      },
      "outputs": [
        {
          "name": "stdout",
          "output_type": "stream",
          "text": [
            "r\n"
          ]
        }
      ],
      "source": [
        "d1={\"flag\": [\"red\",\"white\",\"blue\",(\"hi\",[1,2,'how r u'])]}\n",
        "print(d1['flag'][3][1][2][4])"
      ]
    },
    {
      "cell_type": "code",
      "execution_count": null,
      "metadata": {
        "id": "WaTmgezuuG3b",
        "outputId": "b934523b-8d41-4fa1-bdc4-011cea812159"
      },
      "outputs": [
        {
          "name": "stdout",
          "output_type": "stream",
          "text": [
            "a\n"
          ]
        }
      ],
      "source": [
        "d1={\n",
        "    \"flag\":[\"d\",\"h\",\"e\",(\"hi\",[1,{1:['Happy new{year: thank you}']},2,'hou'])]}\n",
        "print(d1['flag'][-1][-1][-3][1][-1][-8])"
      ]
    },
    {
      "cell_type": "code",
      "execution_count": null,
      "metadata": {
        "id": "cFAhKrzVuG3c",
        "outputId": "2c3d562b-0bfc-4c23-9dee-5dba981272c4"
      },
      "outputs": [
        {
          "name": "stdout",
          "output_type": "stream",
          "text": [
            "None\n"
          ]
        }
      ],
      "source": [
        "print(d1.get('flg'))"
      ]
    },
    {
      "cell_type": "code",
      "execution_count": null,
      "metadata": {
        "id": "vFbzz2dGuG3c",
        "outputId": "432fffc7-3407-4f22-eede-329ad698d7e1"
      },
      "outputs": [
        {
          "name": "stdout",
          "output_type": "stream",
          "text": [
            "1423600141480\n",
            "1423600141000\n",
            "1423600453960\n",
            "1423600141000\n"
          ]
        }
      ],
      "source": [
        "a = (1, 2, 3)\n",
        "print(id(a))\n",
        "b = (4, 5, 6)\n",
        "print(id(b))\n",
        "a = a + b\n",
        "print(id(a))\n",
        "print(id(b))"
      ]
    },
    {
      "cell_type": "code",
      "execution_count": null,
      "metadata": {
        "id": "KDnTSODRuG3d",
        "outputId": "2affb7de-8105-427a-b53b-50916f88a17b"
      },
      "outputs": [
        {
          "name": "stdout",
          "output_type": "stream",
          "text": [
            "1423600159560\n",
            "1423600339016\n",
            "1423600431880\n",
            "1423600339016\n",
            "[1, 2, 3, 4, 5, 6]\n"
          ]
        }
      ],
      "source": [
        "a = [1, 2, 3]\n",
        "print(id(a))\n",
        "b = [4, 5, 6]\n",
        "print(id(b))\n",
        "a = a + b\n",
        "print(id(a))\n",
        "print(id(b))\n",
        "print(a)"
      ]
    },
    {
      "cell_type": "code",
      "execution_count": null,
      "metadata": {
        "id": "BGjZdRgauG3d",
        "outputId": "0f7e4ca8-a8ba-445f-cab5-465ce8bfae2a"
      },
      "outputs": [
        {
          "name": "stdout",
          "output_type": "stream",
          "text": [
            "1423600339016\n",
            "1423600431880\n",
            "1423600339016\n",
            "1423600431880\n",
            "[1, 2, 3, 4]\n"
          ]
        }
      ],
      "source": [
        "a = [1, 2, 3]\n",
        "print(id(a))\n",
        "b = [4, 5, 6]\n",
        "print(id(b))\n",
        "a.append(4)\n",
        "print(id(a))\n",
        "print(id(b))\n",
        "print(a)"
      ]
    },
    {
      "cell_type": "code",
      "execution_count": null,
      "metadata": {
        "id": "qoYi6SJ9uG3e",
        "outputId": "9a8f5065-9593-4a8b-cec1-92c3e53a40d2"
      },
      "outputs": [
        {
          "data": {
            "text/plain": [
              "'HelloWorld hi'"
            ]
          },
          "execution_count": 11,
          "metadata": {},
          "output_type": "execute_result"
        }
      ],
      "source": [
        "s1 = \"Hello\" \n",
        "s2 = 'World'\n",
        "s1 = s1 + s2\n",
        "s1 = s1 + ' hi'\n",
        "s1"
      ]
    },
    {
      "cell_type": "code",
      "execution_count": null,
      "metadata": {
        "id": "Um-lQF-5uG3e",
        "outputId": "0d00b2dc-8d94-43b3-f089-4e79c2abcc31"
      },
      "outputs": [
        {
          "data": {
            "text/plain": [
              "'HelloHelloHello'"
            ]
          },
          "execution_count": 12,
          "metadata": {},
          "output_type": "execute_result"
        }
      ],
      "source": [
        "'Hello' * 3"
      ]
    },
    {
      "cell_type": "code",
      "execution_count": null,
      "metadata": {
        "id": "6fLdowUOuG3e",
        "outputId": "31c0a7ce-a848-4fb4-8774-ebb122e30420"
      },
      "outputs": [
        {
          "data": {
            "text/plain": [
              "'n'"
            ]
          },
          "execution_count": 27,
          "metadata": {},
          "output_type": "execute_result"
        }
      ],
      "source": [
        "a = [1,True,'Hello',[1,2,3],(5,6,'how r u',[7,8,'fine'],('hi',5,False))]\n",
        "a[4][3][2][2]"
      ]
    },
    {
      "cell_type": "code",
      "execution_count": null,
      "metadata": {
        "id": "TA5yZEXhuG3f",
        "outputId": "870a9497-33b5-41e0-cd27-76474b5ee389"
      },
      "outputs": [
        {
          "name": "stdout",
          "output_type": "stream",
          "text": [
            "False\n",
            "True\n",
            "False\n"
          ]
        }
      ],
      "source": [
        "my_list = [1, 2, 3, 4] \n",
        "your_list = [4, 3, 2, 1] \n",
        "his_list = [1, 2, 3, 4]\n",
        "print(my_list == your_list) \n",
        "print(my_list == his_list)\n",
        "my_dict = {1:7, 2:2, 3:3, 4:4} \n",
        "your_dict = {4:4, 3:3, 2:2, 1:1}\n",
        "print(my_dict == your_dict)"
      ]
    },
    {
      "cell_type": "code",
      "execution_count": null,
      "metadata": {
        "id": "zpBVonqCuG3f",
        "outputId": "e5eba7eb-887f-42e2-d1b6-b5059e757274"
      },
      "outputs": [
        {
          "name": "stdout",
          "output_type": "stream",
          "text": [
            "A dictionary: {'A': 'APPLE', 'B': 'BALL', 'C': 'CAT', 'D': 'DOLL'}\n",
            "Value associated to key C: CAT\n"
          ]
        }
      ],
      "source": [
        "## Dictionary\n",
        "example_dictionary = {\"A\": \"APPLE\", \n",
        "                      \"B\": \"BALL\", \n",
        "                      \"C\": \"CAT\", \n",
        "                      \"D\": \"DOLL\"}\n",
        "print('A dictionary:', example_dictionary)\n",
        "print('Value associated to key C:', example_dictionary['C'])"
      ]
    },
    {
      "cell_type": "code",
      "execution_count": null,
      "metadata": {
        "id": "grmqyt73uG3g",
        "outputId": "ec88e6e4-3434-4774-d62a-b382076af6b4"
      },
      "outputs": [
        {
          "name": "stdout",
          "output_type": "stream",
          "text": [
            "1\n",
            "4\n",
            "9\n",
            "16\n",
            "25\n",
            "c\n",
            "o\n",
            "m\n",
            "p\n",
            "u\n",
            "t\n",
            "e\n",
            "r\n"
          ]
        }
      ],
      "source": [
        "for num in [1,2,3,4,5]:\n",
        "    print(num**2)\n",
        "\n",
        "for num in 'computer':\n",
        "    print(num)"
      ]
    },
    {
      "cell_type": "code",
      "execution_count": null,
      "metadata": {
        "id": "LXqohD9yuG3g",
        "outputId": "b48f0559-d36a-490d-d649-599b5dee0bcd"
      },
      "outputs": [
        {
          "name": "stdout",
          "output_type": "stream",
          "text": [
            "Is 2 < 5? True\n",
            "Is 2 == 5? False\n",
            "Is 2 < 5 and 2 > 1? True\n",
            "x is equal to 2\n"
          ]
        }
      ],
      "source": [
        "x = 2\n",
        "print('Is 2 < 5?', x < 5)\n",
        "print('Is 2 == 5?', x == 5)\n",
        "print('Is 2 < 5 and 2 > 1?', (x < 5) & (x > 1))\n",
        "\n",
        "if x == 2:\n",
        "    print('x is equal to 2')"
      ]
    },
    {
      "cell_type": "code",
      "execution_count": null,
      "metadata": {
        "id": "Is-pq7t6uG3g",
        "outputId": "202adcd4-327c-4de6-e73f-f4e7610e71ce"
      },
      "outputs": [
        {
          "name": "stdout",
          "output_type": "stream",
          "text": [
            "The element in list is: A\n",
            "The element in list is: B\n",
            "The element in list is: C\n",
            "The element in list is: D\n",
            "The element in list is: E\n"
          ]
        }
      ],
      "source": [
        "example_list = ['A', 'B', 'C', 'D', 'E']\n",
        "\n",
        "## Looping through a list\n",
        "for element in example_list:\n",
        "    print(\"The element in list is:\", element)"
      ]
    },
    {
      "cell_type": "code",
      "execution_count": null,
      "metadata": {
        "id": "n4RHaggeuG3h",
        "outputId": "f92dc7dd-7069-4219-aa8c-a3923857f163"
      },
      "outputs": [
        {
          "name": "stdout",
          "output_type": "stream",
          "text": [
            "Price is 2.5\n",
            "Price is 3.5\n",
            "Price is 4.5\n",
            "total is 10.5\n",
            "avg is 3.5\n"
          ]
        }
      ],
      "source": [
        "total = 0\n",
        "prices = [2.50, 3.50, 4.50]\n",
        "for price in prices:\n",
        "    print('Price is', price) \n",
        "    total = total + price\n",
        "print('total is', total)\n",
        "average = total/len(prices) \n",
        "print('avg is', average)\n"
      ]
    },
    {
      "cell_type": "code",
      "execution_count": null,
      "metadata": {
        "id": "vUo-wdBzuG3h",
        "outputId": "1bf4bd32-c38e-4c84-def1-f64340bb3d1b"
      },
      "outputs": [
        {
          "name": "stdout",
          "output_type": "stream",
          "text": [
            "0.16710574390603528\n",
            "2\n",
            "832\n"
          ]
        }
      ],
      "source": [
        "import random\n",
        "r1 = random.random() # Gives us a random number from [0.0, 1.0\n",
        "print(r1)\n",
        "r2 = random.choice([1,2,3,4,5]) # Gives us a random choice from a list\n",
        "r3 = random.randint(1, 1000) # Gives us a random number in this range\n",
        "print(r2)\n",
        "print(r3)"
      ]
    },
    {
      "cell_type": "code",
      "execution_count": null,
      "metadata": {
        "id": "uU7P0RPSuG3h",
        "outputId": "8c7034d9-1886-4a5c-aa4e-ea8721d5cb00"
      },
      "outputs": [
        {
          "name": "stdout",
          "output_type": "stream",
          "text": [
            "208\n",
            "595\n",
            "376\n",
            "195\n",
            "539\n",
            "1000\n",
            "499\n",
            "89\n",
            "780\n",
            "854\n"
          ]
        }
      ],
      "source": [
        "import random\n",
        "for i in range(10):\n",
        "    #print(i)\n",
        "    ticket = random.randint(1, 1000)\n",
        "    print(ticket)"
      ]
    },
    {
      "cell_type": "code",
      "execution_count": null,
      "metadata": {
        "id": "reK7r9NouG3i",
        "outputId": "7516ccbf-841a-4c3b-ab31-9349963ba474"
      },
      "outputs": [
        {
          "name": "stdout",
          "output_type": "stream",
          "text": [
            "2005\n",
            "2007\n",
            "2009\n",
            "2011\n",
            "2013\n",
            "2015\n"
          ]
        }
      ],
      "source": [
        "for i in range(2005, 2017, 2):\n",
        "    print(i)"
      ]
    },
    {
      "cell_type": "code",
      "execution_count": null,
      "metadata": {
        "id": "eNEEh6RGuG3i",
        "outputId": "d599fae2-73b1-4957-b9b2-edaaeed72260"
      },
      "outputs": [
        {
          "name": "stdout",
          "output_type": "stream",
          "text": [
            "dict_items([('Knackered Spam', 0.5), ('Pip pip Spam', 1.5), ('Squidgy Spam', 2.5), ('Smashing Spam', 3.5)])\n",
            "Knackered Spam : $ 0.5\n",
            "Pip pip Spam : $ 1.5\n",
            "Squidgy Spam : $ 2.5\n",
            "Smashing Spam : $ 3.5\n"
          ]
        }
      ],
      "source": [
        "menu_prices = {\n",
        "    'Knackered Spam': 0.50,\n",
        "    'Pip pip Spam': 1.50, \n",
        "    'Squidgy Spam': 2.50, \n",
        "    'Smashing Spam': 3.50\n",
        "}\n",
        "print(menu_prices.items())\n",
        "for name, price in menu_prices.items():\n",
        "    print(name, ': $', price)\n"
      ]
    },
    {
      "cell_type": "code",
      "execution_count": null,
      "metadata": {
        "id": "kaUi6GFwuG3j",
        "outputId": "44329079-7910-47e6-ebbd-263af205c723"
      },
      "outputs": [
        {
          "name": "stdout",
          "output_type": "stream",
          "text": [
            "Enter the Number5\n",
            "1\n",
            "2\n",
            "3\n",
            "4\n",
            "5\n"
          ]
        }
      ],
      "source": [
        "n = 1\n",
        "num= int(input('Enter the Number'))\n",
        "while n<= num :\n",
        "    print(n)\n",
        "    n+=1"
      ]
    },
    {
      "cell_type": "code",
      "execution_count": null,
      "metadata": {
        "id": "nMvaw5x4uG3j",
        "outputId": "7d55e593-8dac-4b55-bda9-1564ccace47e"
      },
      "outputs": [
        {
          "name": "stdout",
          "output_type": "stream",
          "text": [
            "x? 100\n",
            "y? ten\n",
            "<class 'str'>\n",
            "x is less than y\n"
          ]
        }
      ],
      "source": [
        "x = input(\"x? \")\n",
        "y = input(\"y? \")\n",
        "print(type(x))\n",
        "\n",
        "if x < y: \n",
        "    print('x is less than y') \n",
        "elif x > y: \n",
        "    print ('x is greater than y') \n",
        "else: \n",
        "    print('x and y are equal')\n"
      ]
    },
    {
      "cell_type": "code",
      "execution_count": null,
      "metadata": {
        "id": "ZUSUQ5OtuG3k",
        "outputId": "69c2774a-5bcc-4a63-fcf0-a69c99bbb52a"
      },
      "outputs": [
        {
          "name": "stdout",
          "output_type": "stream",
          "text": [
            "Before\n",
            "Large number 41\n",
            "Large number 74\n",
            "After\n"
          ]
        }
      ],
      "source": [
        "print('Before')\n",
        "for num in [9, 41, 12, 3, 74, 15] :\n",
        "    if num > 20: \n",
        "        print('Large number',num)\n",
        "print('After')\n"
      ]
    },
    {
      "cell_type": "code",
      "execution_count": null,
      "metadata": {
        "id": "l6BVrmYQuG3k"
      },
      "outputs": [],
      "source": [
        ""
      ]
    }
  ],
  "metadata": {
    "celltoolbar": "Slideshow",
    "kernelspec": {
      "display_name": "Python 3",
      "language": "python",
      "name": "python3"
    },
    "language_info": {
      "codemirror_mode": {
        "name": "ipython",
        "version": 3
      },
      "file_extension": ".py",
      "mimetype": "text/x-python",
      "name": "python",
      "nbconvert_exporter": "python",
      "pygments_lexer": "ipython3",
      "version": "3.7.10"
    },
    "colab": {
      "name": "list.ipynb",
      "provenance": [],
      "include_colab_link": true
    }
  },
  "nbformat": 4,
  "nbformat_minor": 0
}